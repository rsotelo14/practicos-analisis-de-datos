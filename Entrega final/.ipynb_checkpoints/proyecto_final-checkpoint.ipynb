{
 "cells": [
  {
   "cell_type": "code",
   "execution_count": 1,
   "id": "04c142f4-66e0-40a1-ade7-b3de3cdb2363",
   "metadata": {},
   "outputs": [],
   "source": [
    "import pandas as pd\n",
    "import matplotlib.pyplot as plt\n",
    "import numpy as np"
   ]
  },
  {
   "cell_type": "code",
   "execution_count": 2,
   "id": "c0a43678-ed84-4da7-b610-71559b5d02bc",
   "metadata": {},
   "outputs": [
    {
     "data": {
      "text/html": [
       "<div>\n",
       "<style scoped>\n",
       "    .dataframe tbody tr th:only-of-type {\n",
       "        vertical-align: middle;\n",
       "    }\n",
       "\n",
       "    .dataframe tbody tr th {\n",
       "        vertical-align: top;\n",
       "    }\n",
       "\n",
       "    .dataframe thead th {\n",
       "        text-align: right;\n",
       "    }\n",
       "</style>\n",
       "<table border=\"1\" class=\"dataframe\">\n",
       "  <thead>\n",
       "    <tr style=\"text-align: right;\">\n",
       "      <th></th>\n",
       "      <th>Channel</th>\n",
       "      <th>Region</th>\n",
       "      <th>Fresh</th>\n",
       "      <th>Milk</th>\n",
       "      <th>Grocery</th>\n",
       "      <th>Frozen</th>\n",
       "      <th>Detergents_Paper</th>\n",
       "      <th>Delicassen</th>\n",
       "    </tr>\n",
       "  </thead>\n",
       "  <tbody>\n",
       "    <tr>\n",
       "      <th>0</th>\n",
       "      <td>2.0</td>\n",
       "      <td>3.0</td>\n",
       "      <td>12669.0</td>\n",
       "      <td>9656.0</td>\n",
       "      <td>7561.0</td>\n",
       "      <td>214.0</td>\n",
       "      <td>2674.0</td>\n",
       "      <td>1338.0</td>\n",
       "    </tr>\n",
       "    <tr>\n",
       "      <th>1</th>\n",
       "      <td>2.0</td>\n",
       "      <td>3.0</td>\n",
       "      <td>7057.0</td>\n",
       "      <td>9810.0</td>\n",
       "      <td>9568.0</td>\n",
       "      <td>1762.0</td>\n",
       "      <td>3293.0</td>\n",
       "      <td>1776.0</td>\n",
       "    </tr>\n",
       "    <tr>\n",
       "      <th>2</th>\n",
       "      <td>2.0</td>\n",
       "      <td>3.0</td>\n",
       "      <td>6353.0</td>\n",
       "      <td>8808.0</td>\n",
       "      <td>7684.0</td>\n",
       "      <td>2405.0</td>\n",
       "      <td>3516.0</td>\n",
       "      <td>7844.0</td>\n",
       "    </tr>\n",
       "    <tr>\n",
       "      <th>3</th>\n",
       "      <td>1.0</td>\n",
       "      <td>3.0</td>\n",
       "      <td>13265.0</td>\n",
       "      <td>1196.0</td>\n",
       "      <td>4221.0</td>\n",
       "      <td>6404.0</td>\n",
       "      <td>507.0</td>\n",
       "      <td>1788.0</td>\n",
       "    </tr>\n",
       "    <tr>\n",
       "      <th>4</th>\n",
       "      <td>2.0</td>\n",
       "      <td>3.0</td>\n",
       "      <td>22615.0</td>\n",
       "      <td>5410.0</td>\n",
       "      <td>7198.0</td>\n",
       "      <td>3915.0</td>\n",
       "      <td>1777.0</td>\n",
       "      <td>5185.0</td>\n",
       "    </tr>\n",
       "  </tbody>\n",
       "</table>\n",
       "</div>"
      ],
      "text/plain": [
       "   Channel  Region    Fresh    Milk  Grocery  Frozen  Detergents_Paper  \\\n",
       "0      2.0     3.0  12669.0  9656.0   7561.0   214.0            2674.0   \n",
       "1      2.0     3.0   7057.0  9810.0   9568.0  1762.0            3293.0   \n",
       "2      2.0     3.0   6353.0  8808.0   7684.0  2405.0            3516.0   \n",
       "3      1.0     3.0  13265.0  1196.0   4221.0  6404.0             507.0   \n",
       "4      2.0     3.0  22615.0  5410.0   7198.0  3915.0            1777.0   \n",
       "\n",
       "   Delicassen  \n",
       "0      1338.0  \n",
       "1      1776.0  \n",
       "2      7844.0  \n",
       "3      1788.0  \n",
       "4      5185.0  "
      ]
     },
     "execution_count": 2,
     "metadata": {},
     "output_type": "execute_result"
    }
   ],
   "source": [
    "#Load dataset\n",
    "df = pd.read_csv('Tema_7.csv')\n",
    "df.head()"
   ]
  },
  {
   "cell_type": "code",
   "execution_count": 3,
   "id": "738efd74-94f3-44f1-a49a-67b1104af0c4",
   "metadata": {},
   "outputs": [
    {
     "data": {
      "text/plain": [
       "450"
      ]
     },
     "execution_count": 3,
     "metadata": {},
     "output_type": "execute_result"
    }
   ],
   "source": [
    "#Number of rows\n",
    "len(df)"
   ]
  },
  {
   "cell_type": "code",
   "execution_count": 7,
   "id": "3f664b5d-f206-4f64-94b7-d4c44845b5ad",
   "metadata": {},
   "outputs": [
    {
     "data": {
      "text/plain": [
       "Channel             5.111111\n",
       "Region              4.888889\n",
       "Fresh               4.666667\n",
       "Milk                4.888889\n",
       "Grocery             4.888889\n",
       "Frozen              5.111111\n",
       "Detergents_Paper    4.888889\n",
       "Delicassen          5.111111\n",
       "dtype: float64"
      ]
     },
     "execution_count": 7,
     "metadata": {},
     "output_type": "execute_result"
    }
   ],
   "source": [
    "#Nulls\n",
    "null_values = df.isna()\n",
    "porcentages = (null_values.sum() / len(df) * 100)\n",
    "porcentages"
   ]
  },
  {
   "cell_type": "code",
   "execution_count": 9,
   "id": "8ad6eac9-0b2c-4b55-8206-7a209231a511",
   "metadata": {},
   "outputs": [
    {
     "data": {
      "text/plain": [
       "Channel\n",
       "1.0    289\n",
       "2.0    138\n",
       "NaN     23\n",
       "Name: count, dtype: int64"
      ]
     },
     "execution_count": 9,
     "metadata": {},
     "output_type": "execute_result"
    }
   ],
   "source": [
    "df['Channel'].value_counts(dropna=False)\n",
    "# 1.0 -> Horeca (hotel, restaurants, café)\n",
    "# 2.0 -> Retail"
   ]
  },
  {
   "cell_type": "code",
   "execution_count": 11,
   "id": "297d3d5f-5d57-40a7-884c-98b161efc993",
   "metadata": {},
   "outputs": [],
   "source": [
    "df.loc[df['Channel'].isna() == True, 'Channel'] = 1.0 # Reemplazo por la moda"
   ]
  },
  {
   "cell_type": "code",
   "execution_count": 13,
   "id": "9d60506b-5012-419b-9fb4-3ae2068f6987",
   "metadata": {},
   "outputs": [
    {
     "data": {
      "text/plain": [
       "Region\n",
       "3.0    308\n",
       "1.0     75\n",
       "2.0     45\n",
       "NaN     22\n",
       "Name: count, dtype: int64"
      ]
     },
     "execution_count": 13,
     "metadata": {},
     "output_type": "execute_result"
    }
   ],
   "source": [
    "df['Region'].value_counts(dropna=False)\n",
    "# 3.0 -> Other region\n",
    "# 1.0 -> Lisbon\n",
    "# 2.0 -> Oporto"
   ]
  },
  {
   "cell_type": "code",
   "execution_count": 15,
   "id": "f9822d43-0730-4ced-a623-c0b62128470a",
   "metadata": {},
   "outputs": [],
   "source": [
    "df.loc[df['Region'].isna() == True, 'Region'] = 3.0 # Reemplazo por la moda"
   ]
  },
  {
   "cell_type": "code",
   "execution_count": 17,
   "id": "4d4ea057-8544-4276-a858-e423a1541819",
   "metadata": {},
   "outputs": [],
   "source": [
    "#Change 'invalid_value' to NaN\n",
    "df.loc[df['Fresh']== 'invalid_value', 'Fresh'] = np.nan\n",
    "df['Fresh'] = pd.to_numeric(df['Fresh'], errors='coerce')zss"
   ]
  },
  {
   "cell_type": "code",
   "execution_count": 19,
   "id": "f7bf90b3-36af-418a-b568-2096d9bf0bc3",
   "metadata": {},
   "outputs": [],
   "source": [
    "for column in [\"Fresh\" ,\"Milk\",\"Grocery\",\"Frozen\" ,\"Detergents_Paper\",\"Delicassen\"]:\n",
    "    df.loc[df[column].isna() == True, column] = df[column].median() # Reemplazo nulls por mediana de las columnas numéricas\n",
    "#Uso la mediana porque tienen un rango muy grande y outliers"
   ]
  },
  {
   "cell_type": "code",
   "execution_count": 21,
   "id": "33a97b6d-628a-40a4-93bb-3899d3b69367",
   "metadata": {},
   "outputs": [],
   "source": [
    "def plot_column(column):\n",
    "\n",
    "    # Plot de la columna\n",
    "    plt.figure(figsize=(8, 6))\n",
    "    df[column].hist(bins=100)\n",
    "    plt.title(f'Gráfico de {column}')\n",
    "    plt.xlabel('Índice')\n",
    "    plt.ylabel('Valor')\n",
    "    plt.grid(True)\n",
    "    plt.show()\n",
    "    # Cálculo de estadísticas\n",
    "    mean = df[column].mean()\n",
    "    std = df[column].std()\n",
    "    min_value = df[column].min()\n",
    "    max_value = df[column].max()\n",
    "    \n",
    "    print(f\"Media: {mean}\")\n",
    "    print(f\"Desviación estándar: {std}\")\n",
    "    print(f\"Valor mínimo: {min_value}\")\n",
    "    print(f\"Valor máximo: {max_value}\")"
   ]
  },
  {
   "cell_type": "code",
   "execution_count": 47,
   "id": "8781a648-0c2e-420b-ad6c-c774f238cdc6",
   "metadata": {},
   "outputs": [
    {
     "data": {
      "image/png": "[encoded data removed]",
      "text/plain": [
       "<Figure size 800x600 with 1 Axes>"
      ]
     },
     "metadata": {},
     "output_type": "display_data"
    },
    {
     "name": "stdout",
     "output_type": "stream",
     "text": [
      "Media: 2769.702222222222\n",
      "Desviación estándar: 4775.370774232948\n",
      "Valor mínimo: 3.0\n",
      "Valor máximo: 40827.0\n"
     ]
    }
   ],
   "source": [
    "plot_column('Detergents_Paper') #Se puede cambiar el nombre de la columna para ver el histñ"
   ]
  },
  {
   "cell_type": "code",
   "execution_count": 99,
   "id": "2212d2fd-4008-4d6e-8d9e-3ecd2fa102d4",
   "metadata": {},
   "outputs": [
    {
     "data": {
      "text/html": [
       "<div>\n",
       "<style scoped>\n",
       "    .dataframe tbody tr th:only-of-type {\n",
       "        vertical-align: middle;\n",
       "    }\n",
       "\n",
       "    .dataframe tbody tr th {\n",
       "        vertical-align: top;\n",
       "    }\n",
       "\n",
       "    .dataframe thead th {\n",
       "        text-align: right;\n",
       "    }\n",
       "</style>\n",
       "<table border=\"1\" class=\"dataframe\">\n",
       "  <thead>\n",
       "    <tr style=\"text-align: right;\">\n",
       "      <th></th>\n",
       "      <th>Channel</th>\n",
       "      <th>Region</th>\n",
       "      <th>Fresh</th>\n",
       "      <th>Milk</th>\n",
       "      <th>Grocery</th>\n",
       "      <th>Frozen</th>\n",
       "      <th>Detergents_Paper</th>\n",
       "      <th>Delicassen</th>\n",
       "    </tr>\n",
       "  </thead>\n",
       "  <tbody>\n",
       "    <tr>\n",
       "      <th>93</th>\n",
       "      <td>1.0</td>\n",
       "      <td>3.0</td>\n",
       "      <td>11314.0</td>\n",
       "      <td>3090.0</td>\n",
       "      <td>2062.0</td>\n",
       "      <td>35009.0</td>\n",
       "      <td>71.0</td>\n",
       "      <td>2698.0</td>\n",
       "    </tr>\n",
       "    <tr>\n",
       "      <th>325</th>\n",
       "      <td>1.0</td>\n",
       "      <td>2.0</td>\n",
       "      <td>32717.0</td>\n",
       "      <td>16784.0</td>\n",
       "      <td>13626.0</td>\n",
       "      <td>60869.0</td>\n",
       "      <td>1272.0</td>\n",
       "      <td>5609.0</td>\n",
       "    </tr>\n",
       "  </tbody>\n",
       "</table>\n",
       "</div>"
      ],
      "text/plain": [
       "     Channel  Region    Fresh     Milk  Grocery   Frozen  Detergents_Paper  \\\n",
       "93       1.0     3.0  11314.0   3090.0   2062.0  35009.0              71.0   \n",
       "325      1.0     2.0  32717.0  16784.0  13626.0  60869.0            1272.0   \n",
       "\n",
       "     Delicassen  \n",
       "93       2698.0  \n",
       "325      5609.0  "
      ]
     },
     "execution_count": 99,
     "metadata": {},
     "output_type": "execute_result"
    }
   ],
   "source": [
    "df[df['Frozen']>30000] # Hay que ver si sacarlos o no, si son outliers o no"
   ]
  },
  {
   "cell_type": "code",
   "execution_count": 31,
   "id": "2546d644-9df3-4c34-ab4e-f4d73e91d6dd",
   "metadata": {},
   "outputs": [
    {
     "data": {
      "text/html": [
       "<div>\n",
       "<style scoped>\n",
       "    .dataframe tbody tr th:only-of-type {\n",
       "        vertical-align: middle;\n",
       "    }\n",
       "\n",
       "    .dataframe tbody tr th {\n",
       "        vertical-align: top;\n",
       "    }\n",
       "\n",
       "    .dataframe thead th {\n",
       "        text-align: right;\n",
       "    }\n",
       "</style>\n",
       "<table border=\"1\" class=\"dataframe\">\n",
       "  <thead>\n",
       "    <tr style=\"text-align: right;\">\n",
       "      <th></th>\n",
       "      <th>Channel</th>\n",
       "      <th>Region</th>\n",
       "      <th>Fresh</th>\n",
       "      <th>Milk</th>\n",
       "      <th>Grocery</th>\n",
       "      <th>Frozen</th>\n",
       "      <th>Detergents_Paper</th>\n",
       "      <th>Delicassen</th>\n",
       "    </tr>\n",
       "  </thead>\n",
       "  <tbody>\n",
       "    <tr>\n",
       "      <th>54</th>\n",
       "      <td>1.0</td>\n",
       "      <td>3.0</td>\n",
       "      <td>1121510.0</td>\n",
       "      <td>1449.0</td>\n",
       "      <td>1947.0</td>\n",
       "      <td>2436.0</td>\n",
       "      <td>204.0</td>\n",
       "      <td>1333.0</td>\n",
       "    </tr>\n",
       "    <tr>\n",
       "      <th>154</th>\n",
       "      <td>1.0</td>\n",
       "      <td>3.0</td>\n",
       "      <td>1121510.0</td>\n",
       "      <td>55.0</td>\n",
       "      <td>137.0</td>\n",
       "      <td>75.0</td>\n",
       "      <td>7.0</td>\n",
       "      <td>8.0</td>\n",
       "    </tr>\n",
       "    <tr>\n",
       "      <th>230</th>\n",
       "      <td>2.0</td>\n",
       "      <td>1.0</td>\n",
       "      <td>1121510.0</td>\n",
       "      <td>5989.0</td>\n",
       "      <td>5615.0</td>\n",
       "      <td>8321.0</td>\n",
       "      <td>955.0</td>\n",
       "      <td>2137.0</td>\n",
       "    </tr>\n",
       "    <tr>\n",
       "      <th>307</th>\n",
       "      <td>1.0</td>\n",
       "      <td>2.0</td>\n",
       "      <td>1121510.0</td>\n",
       "      <td>2374.0</td>\n",
       "      <td>2842.0</td>\n",
       "      <td>1149.0</td>\n",
       "      <td>351.0</td>\n",
       "      <td>925.0</td>\n",
       "    </tr>\n",
       "  </tbody>\n",
       "</table>\n",
       "</div>"
      ],
      "text/plain": [
       "     Channel  Region      Fresh    Milk  Grocery  Frozen  Detergents_Paper  \\\n",
       "54       1.0     3.0  1121510.0  1449.0   1947.0  2436.0             204.0   \n",
       "154      1.0     3.0  1121510.0    55.0    137.0    75.0               7.0   \n",
       "230      2.0     1.0  1121510.0  5989.0   5615.0  8321.0             955.0   \n",
       "307      1.0     2.0  1121510.0  2374.0   2842.0  1149.0             351.0   \n",
       "\n",
       "     Delicassen  \n",
       "54       1333.0  \n",
       "154         8.0  \n",
       "230      2137.0  \n",
       "307       925.0  "
      ]
     },
     "execution_count": 31,
     "metadata": {},
     "output_type": "execute_result"
    }
   ],
   "source": [
    "df[df['Fresh']>=1121510]"
   ]
  },
  {
   "cell_type": "code",
   "execution_count": 37,
   "id": "346c767d-9070-4d93-b4af-5d51e6db85e8",
   "metadata": {},
   "outputs": [
    {
     "data": {
      "text/html": [
       "<div>\n",
       "<style scoped>\n",
       "    .dataframe tbody tr th:only-of-type {\n",
       "        vertical-align: middle;\n",
       "    }\n",
       "\n",
       "    .dataframe tbody tr th {\n",
       "        vertical-align: top;\n",
       "    }\n",
       "\n",
       "    .dataframe thead th {\n",
       "        text-align: right;\n",
       "    }\n",
       "</style>\n",
       "<table border=\"1\" class=\"dataframe\">\n",
       "  <thead>\n",
       "    <tr style=\"text-align: right;\">\n",
       "      <th></th>\n",
       "      <th>Channel</th>\n",
       "      <th>Region</th>\n",
       "      <th>Fresh</th>\n",
       "      <th>Milk</th>\n",
       "      <th>Grocery</th>\n",
       "      <th>Frozen</th>\n",
       "      <th>Detergents_Paper</th>\n",
       "      <th>Delicassen</th>\n",
       "    </tr>\n",
       "  </thead>\n",
       "  <tbody>\n",
       "    <tr>\n",
       "      <th>86</th>\n",
       "      <td>2.0</td>\n",
       "      <td>3.0</td>\n",
       "      <td>22925.0</td>\n",
       "      <td>734980.0</td>\n",
       "      <td>32114.0</td>\n",
       "      <td>987.0</td>\n",
       "      <td>20070.0</td>\n",
       "      <td>903.0</td>\n",
       "    </tr>\n",
       "    <tr>\n",
       "      <th>209</th>\n",
       "      <td>2.0</td>\n",
       "      <td>3.0</td>\n",
       "      <td>5550.0</td>\n",
       "      <td>734980.0</td>\n",
       "      <td>16767.0</td>\n",
       "      <td>864.0</td>\n",
       "      <td>12420.0</td>\n",
       "      <td>797.0</td>\n",
       "    </tr>\n",
       "    <tr>\n",
       "      <th>266</th>\n",
       "      <td>2.0</td>\n",
       "      <td>1.0</td>\n",
       "      <td>572.0</td>\n",
       "      <td>734980.0</td>\n",
       "      <td>22182.0</td>\n",
       "      <td>2221.0</td>\n",
       "      <td>4882.0</td>\n",
       "      <td>2563.0</td>\n",
       "    </tr>\n",
       "    <tr>\n",
       "      <th>296</th>\n",
       "      <td>1.0</td>\n",
       "      <td>2.0</td>\n",
       "      <td>19087.0</td>\n",
       "      <td>734980.0</td>\n",
       "      <td>927800.0</td>\n",
       "      <td>3045.0</td>\n",
       "      <td>710.0</td>\n",
       "      <td>898.0</td>\n",
       "    </tr>\n",
       "    <tr>\n",
       "      <th>440</th>\n",
       "      <td>2.0</td>\n",
       "      <td>3.0</td>\n",
       "      <td>22925.0</td>\n",
       "      <td>734980.0</td>\n",
       "      <td>32114.0</td>\n",
       "      <td>987.0</td>\n",
       "      <td>20070.0</td>\n",
       "      <td>903.0</td>\n",
       "    </tr>\n",
       "  </tbody>\n",
       "</table>\n",
       "</div>"
      ],
      "text/plain": [
       "     Channel  Region    Fresh      Milk   Grocery  Frozen  Detergents_Paper  \\\n",
       "86       2.0     3.0  22925.0  734980.0   32114.0   987.0           20070.0   \n",
       "209      2.0     3.0   5550.0  734980.0   16767.0   864.0           12420.0   \n",
       "266      2.0     1.0    572.0  734980.0   22182.0  2221.0            4882.0   \n",
       "296      1.0     2.0  19087.0  734980.0  927800.0  3045.0             710.0   \n",
       "440      2.0     3.0  22925.0  734980.0   32114.0   987.0           20070.0   \n",
       "\n",
       "     Delicassen  \n",
       "86        903.0  \n",
       "209       797.0  \n",
       "266      2563.0  \n",
       "296       898.0  \n",
       "440       903.0  "
      ]
     },
     "execution_count": 37,
     "metadata": {},
     "output_type": "execute_result"
    }
   ],
   "source": [
    "df[df['Milk']>=500000]"
   ]
  },
  {
   "cell_type": "code",
   "execution_count": 41,
   "id": "e9756c4b-4c3e-47e4-a826-28bd28eca9c9",
   "metadata": {},
   "outputs": [
    {
     "data": {
      "text/html": [
       "<div>\n",
       "<style scoped>\n",
       "    .dataframe tbody tr th:only-of-type {\n",
       "        vertical-align: middle;\n",
       "    }\n",
       "\n",
       "    .dataframe tbody tr th {\n",
       "        vertical-align: top;\n",
       "    }\n",
       "\n",
       "    .dataframe thead th {\n",
       "        text-align: right;\n",
       "    }\n",
       "</style>\n",
       "<table border=\"1\" class=\"dataframe\">\n",
       "  <thead>\n",
       "    <tr style=\"text-align: right;\">\n",
       "      <th></th>\n",
       "      <th>Channel</th>\n",
       "      <th>Region</th>\n",
       "      <th>Fresh</th>\n",
       "      <th>Milk</th>\n",
       "      <th>Grocery</th>\n",
       "      <th>Frozen</th>\n",
       "      <th>Detergents_Paper</th>\n",
       "      <th>Delicassen</th>\n",
       "    </tr>\n",
       "  </thead>\n",
       "  <tbody>\n",
       "    <tr>\n",
       "      <th>6</th>\n",
       "      <td>2.0</td>\n",
       "      <td>3.0</td>\n",
       "      <td>12126.0</td>\n",
       "      <td>3199.0</td>\n",
       "      <td>927800.0</td>\n",
       "      <td>480.0</td>\n",
       "      <td>3140.0</td>\n",
       "      <td>545.0</td>\n",
       "    </tr>\n",
       "    <tr>\n",
       "      <th>197</th>\n",
       "      <td>2.0</td>\n",
       "      <td>1.0</td>\n",
       "      <td>2427.0</td>\n",
       "      <td>7097.0</td>\n",
       "      <td>927800.0</td>\n",
       "      <td>1127.0</td>\n",
       "      <td>4314.0</td>\n",
       "      <td>1468.0</td>\n",
       "    </tr>\n",
       "    <tr>\n",
       "      <th>296</th>\n",
       "      <td>1.0</td>\n",
       "      <td>2.0</td>\n",
       "      <td>19087.0</td>\n",
       "      <td>734980.0</td>\n",
       "      <td>927800.0</td>\n",
       "      <td>3045.0</td>\n",
       "      <td>710.0</td>\n",
       "      <td>898.0</td>\n",
       "    </tr>\n",
       "    <tr>\n",
       "      <th>430</th>\n",
       "      <td>1.0</td>\n",
       "      <td>3.0</td>\n",
       "      <td>3097.0</td>\n",
       "      <td>4230.0</td>\n",
       "      <td>927800.0</td>\n",
       "      <td>1504.0</td>\n",
       "      <td>241.0</td>\n",
       "      <td>2080.0</td>\n",
       "    </tr>\n",
       "  </tbody>\n",
       "</table>\n",
       "</div>"
      ],
      "text/plain": [
       "     Channel  Region    Fresh      Milk   Grocery  Frozen  Detergents_Paper  \\\n",
       "6        2.0     3.0  12126.0    3199.0  927800.0   480.0            3140.0   \n",
       "197      2.0     1.0   2427.0    7097.0  927800.0  1127.0            4314.0   \n",
       "296      1.0     2.0  19087.0  734980.0  927800.0  3045.0             710.0   \n",
       "430      1.0     3.0   3097.0    4230.0  927800.0  1504.0             241.0   \n",
       "\n",
       "     Delicassen  \n",
       "6         545.0  \n",
       "197      1468.0  \n",
       "296       898.0  \n",
       "430      2080.0  "
      ]
     },
     "execution_count": 41,
     "metadata": {},
     "output_type": "execute_result"
    }
   ],
   "source": [
    "df[df['Grocery']>=800000]"
   ]
  },
  {
   "cell_type": "code",
   "execution_count": 49,
   "id": "763c9ca7-6da4-4386-b3ad-79416ff0a31f",
   "metadata": {},
   "outputs": [
    {
     "data": {
      "text/html": [
       "<div>\n",
       "<style scoped>\n",
       "    .dataframe tbody tr th:only-of-type {\n",
       "        vertical-align: middle;\n",
       "    }\n",
       "\n",
       "    .dataframe tbody tr th {\n",
       "        vertical-align: top;\n",
       "    }\n",
       "\n",
       "    .dataframe thead th {\n",
       "        text-align: right;\n",
       "    }\n",
       "</style>\n",
       "<table border=\"1\" class=\"dataframe\">\n",
       "  <thead>\n",
       "    <tr style=\"text-align: right;\">\n",
       "      <th></th>\n",
       "      <th>Channel</th>\n",
       "      <th>Region</th>\n",
       "      <th>Fresh</th>\n",
       "      <th>Milk</th>\n",
       "      <th>Grocery</th>\n",
       "      <th>Frozen</th>\n",
       "      <th>Detergents_Paper</th>\n",
       "      <th>Delicassen</th>\n",
       "    </tr>\n",
       "  </thead>\n",
       "  <tbody>\n",
       "    <tr>\n",
       "      <th>85</th>\n",
       "      <td>2.0</td>\n",
       "      <td>3.0</td>\n",
       "      <td>16117.0</td>\n",
       "      <td>46197.0</td>\n",
       "      <td>92780.0</td>\n",
       "      <td>1026.0</td>\n",
       "      <td>40827.0</td>\n",
       "      <td>2944.0</td>\n",
       "    </tr>\n",
       "    <tr>\n",
       "      <th>333</th>\n",
       "      <td>2.0</td>\n",
       "      <td>2.0</td>\n",
       "      <td>8565.0</td>\n",
       "      <td>4980.0</td>\n",
       "      <td>67298.0</td>\n",
       "      <td>131.0</td>\n",
       "      <td>38102.0</td>\n",
       "      <td>1215.0</td>\n",
       "    </tr>\n",
       "  </tbody>\n",
       "</table>\n",
       "</div>"
      ],
      "text/plain": [
       "     Channel  Region    Fresh     Milk  Grocery  Frozen  Detergents_Paper  \\\n",
       "85       2.0     3.0  16117.0  46197.0  92780.0  1026.0           40827.0   \n",
       "333      2.0     2.0   8565.0   4980.0  67298.0   131.0           38102.0   \n",
       "\n",
       "     Delicassen  \n",
       "85       2944.0  \n",
       "333      1215.0  "
      ]
     },
     "execution_count": 49,
     "metadata": {},
     "output_type": "execute_result"
    }
   ],
   "source": [
    "df[df['Detergents_Paper']>=18000]"
   ]
  },
  {
   "cell_type": "code",
   "execution_count": null,
   "id": "b3e67227-630a-405c-a7d9-286364d0a3c8",
   "metadata": {},
   "outputs": [],
   "source": []
  }
 ],
 "metadata": {
  "kernelspec": {
   "display_name": "Python 3 (ipykernel)",
   "language": "python",
   "name": "python3"
  },
  "language_info": {
   "codemirror_mode": {
    "name": "ipython",
    "version": 3
   },
   "file_extension": ".py",
   "mimetype": "text/x-python",
   "name": "python",
   "nbconvert_exporter": "python",
   "pygments_lexer": "ipython3",
   "version": "3.12.4"
  }
 },
 "nbformat": 4,
 "nbformat_minor": 5
}

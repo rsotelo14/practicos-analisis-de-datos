{
 "cells": [
  {
   "cell_type": "code",
   "execution_count": 91,
   "id": "04c142f4-66e0-40a1-ade7-b3de3cdb2363",
   "metadata": {},
   "outputs": [],
   "source": [
    "import pandas as pd\n",
    "import matplotlib.pyplot as plt\n",
    "import numpy as np"
   ]
  },
  {
   "cell_type": "code",
   "execution_count": 92,
   "id": "c0a43678-ed84-4da7-b610-71559b5d02bc",
   "metadata": {},
   "outputs": [
    {
     "data": {
      "text/html": [
       "<div>\n",
       "<style scoped>\n",
       "    .dataframe tbody tr th:only-of-type {\n",
       "        vertical-align: middle;\n",
       "    }\n",
       "\n",
       "    .dataframe tbody tr th {\n",
       "        vertical-align: top;\n",
       "    }\n",
       "\n",
       "    .dataframe thead th {\n",
       "        text-align: right;\n",
       "    }\n",
       "</style>\n",
       "<table border=\"1\" class=\"dataframe\">\n",
       "  <thead>\n",
       "    <tr style=\"text-align: right;\">\n",
       "      <th></th>\n",
       "      <th>Channel</th>\n",
       "      <th>Region</th>\n",
       "      <th>Fresh</th>\n",
       "      <th>Milk</th>\n",
       "      <th>Grocery</th>\n",
       "      <th>Frozen</th>\n",
       "      <th>Detergents_Paper</th>\n",
       "      <th>Delicassen</th>\n",
       "    </tr>\n",
       "  </thead>\n",
       "  <tbody>\n",
       "    <tr>\n",
       "      <th>0</th>\n",
       "      <td>2.0</td>\n",
       "      <td>3.0</td>\n",
       "      <td>12669.0</td>\n",
       "      <td>9656.0</td>\n",
       "      <td>7561.0</td>\n",
       "      <td>214.0</td>\n",
       "      <td>2674.0</td>\n",
       "      <td>1338.0</td>\n",
       "    </tr>\n",
       "    <tr>\n",
       "      <th>1</th>\n",
       "      <td>2.0</td>\n",
       "      <td>3.0</td>\n",
       "      <td>7057.0</td>\n",
       "      <td>9810.0</td>\n",
       "      <td>9568.0</td>\n",
       "      <td>1762.0</td>\n",
       "      <td>3293.0</td>\n",
       "      <td>1776.0</td>\n",
       "    </tr>\n",
       "    <tr>\n",
       "      <th>2</th>\n",
       "      <td>2.0</td>\n",
       "      <td>3.0</td>\n",
       "      <td>6353.0</td>\n",
       "      <td>8808.0</td>\n",
       "      <td>7684.0</td>\n",
       "      <td>2405.0</td>\n",
       "      <td>3516.0</td>\n",
       "      <td>7844.0</td>\n",
       "    </tr>\n",
       "    <tr>\n",
       "      <th>3</th>\n",
       "      <td>1.0</td>\n",
       "      <td>3.0</td>\n",
       "      <td>13265.0</td>\n",
       "      <td>1196.0</td>\n",
       "      <td>4221.0</td>\n",
       "      <td>6404.0</td>\n",
       "      <td>507.0</td>\n",
       "      <td>1788.0</td>\n",
       "    </tr>\n",
       "    <tr>\n",
       "      <th>4</th>\n",
       "      <td>2.0</td>\n",
       "      <td>3.0</td>\n",
       "      <td>22615.0</td>\n",
       "      <td>5410.0</td>\n",
       "      <td>7198.0</td>\n",
       "      <td>3915.0</td>\n",
       "      <td>1777.0</td>\n",
       "      <td>5185.0</td>\n",
       "    </tr>\n",
       "  </tbody>\n",
       "</table>\n",
       "</div>"
      ],
      "text/plain": [
       "   Channel  Region    Fresh    Milk  Grocery  Frozen  Detergents_Paper  \\\n",
       "0      2.0     3.0  12669.0  9656.0   7561.0   214.0            2674.0   \n",
       "1      2.0     3.0   7057.0  9810.0   9568.0  1762.0            3293.0   \n",
       "2      2.0     3.0   6353.0  8808.0   7684.0  2405.0            3516.0   \n",
       "3      1.0     3.0  13265.0  1196.0   4221.0  6404.0             507.0   \n",
       "4      2.0     3.0  22615.0  5410.0   7198.0  3915.0            1777.0   \n",
       "\n",
       "   Delicassen  \n",
       "0      1338.0  \n",
       "1      1776.0  \n",
       "2      7844.0  \n",
       "3      1788.0  \n",
       "4      5185.0  "
      ]
     },
     "execution_count": 92,
     "metadata": {},
     "output_type": "execute_result"
    }
   ],
   "source": [
    "#Load dataset\n",
    "df = pd.read_csv('Tema_7.csv')\n",
    "df.head()"
   ]
  },
  {
   "cell_type": "code",
   "execution_count": 93,
   "id": "738efd74-94f3-44f1-a49a-67b1104af0c4",
   "metadata": {},
   "outputs": [
    {
     "data": {
      "text/plain": [
       "450"
      ]
     },
     "execution_count": 93,
     "metadata": {},
     "output_type": "execute_result"
    }
   ],
   "source": [
    "#Number of rows\n",
    "len(df)"
   ]
  },
  {
   "cell_type": "code",
   "execution_count": 94,
   "id": "3f664b5d-f206-4f64-94b7-d4c44845b5ad",
   "metadata": {},
   "outputs": [
    {
     "data": {
      "text/plain": [
       "Channel             5.111111\n",
       "Region              4.888889\n",
       "Fresh               4.666667\n",
       "Milk                4.888889\n",
       "Grocery             4.888889\n",
       "Frozen              5.111111\n",
       "Detergents_Paper    4.888889\n",
       "Delicassen          5.111111\n",
       "dtype: float64"
      ]
     },
     "execution_count": 94,
     "metadata": {},
     "output_type": "execute_result"
    }
   ],
   "source": [
    "#Nulls\n",
    "null_values = df.isna()\n",
    "porcentages = (null_values.sum() / len(df) * 100)\n",
    "porcentages"
   ]
  },
  {
   "cell_type": "code",
   "execution_count": 95,
   "id": "8ad6eac9-0b2c-4b55-8206-7a209231a511",
   "metadata": {},
   "outputs": [
    {
     "data": {
      "text/plain": [
       "Channel\n",
       "1.0    289\n",
       "2.0    138\n",
       "NaN     23\n",
       "Name: count, dtype: int64"
      ]
     },
     "execution_count": 95,
     "metadata": {},
     "output_type": "execute_result"
    }
   ],
   "source": [
    "df['Channel'].value_counts(dropna=False)\n",
    "# 1.0 -> Horeca (hotel, restaurants, café)\n",
    "# 2.0 -> Retail"
   ]
  },
  {
   "cell_type": "code",
   "execution_count": 96,
   "id": "297d3d5f-5d57-40a7-884c-98b161efc993",
   "metadata": {},
   "outputs": [],
   "source": [
    "df.loc[df['Channel'].isna() == True, 'Channel'] = 1.0 # Reemplazo por la moda"
   ]
  },
  {
   "cell_type": "code",
   "execution_count": 97,
   "id": "4d4ea057-8544-4276-a858-e423a1541819",
   "metadata": {},
   "outputs": [],
   "source": [
    "#Change 'invalid_value' to NaN\n",
    "df.loc[df['Fresh']== 'invalid_value', 'Fresh'] = np.nan\n",
    "df['Fresh'] = pd.to_numeric(df['Fresh'], errors='coerce')"
   ]
  },
  {
   "cell_type": "code",
   "execution_count": 98,
   "id": "f7bf90b3-36af-418a-b568-2096d9bf0bc3",
   "metadata": {},
   "outputs": [],
   "source": [
    "for column in [\"Fresh\" ,\"Milk\",\"Grocery\",\"Frozen\" ,\"Detergents_Paper\",\"Delicassen\"]:\n",
    "    df.loc[df[column].isna() == True, column] = df[column].median() # Reemplazo nulls por mediana de las columnas numéricas\n",
    "#Uso la mediana porque tienen un rango muy grande y outliers"
   ]
  },
  {
   "cell_type": "markdown",
   "id": "50e8f842",
   "metadata": {},
   "source": [
    "## Funciones auxiliares"
   ]
  },
  {
   "cell_type": "code",
   "execution_count": 99,
   "id": "7ed8c109",
   "metadata": {},
   "outputs": [],
   "source": [
    "def outliers_finder( column ):\n",
    "    fresh_stats = df[column].describe() #Estadísticas de la columna Fresh\n",
    "\n",
    "    #Cálculo de los cuartiles\n",
    "    Q1 = fresh_stats['25%'] #Cuartil 1\n",
    "    Q3 = fresh_stats['75%'] #Cuartil 3\n",
    "\n",
    "    IQR = Q3 - Q1 #Rango intercuartílico, esto es la diferencia entre el cuartil 3 y el cuartil 1\n",
    "\n",
    "    #Cálculo de los límites\n",
    "    lower_limit = Q1 - 3 * IQR\n",
    "    upper_limit = Q3 + 3 * IQR\n",
    "    \n",
    "    #Cálculo de los outliers\n",
    "    return df[(df[column] < lower_limit) | (df[column] > upper_limit)]"
   ]
  },
  {
   "cell_type": "code",
   "execution_count": 100,
   "id": "33a97b6d-628a-40a4-93bb-3899d3b69367",
   "metadata": {},
   "outputs": [],
   "source": [
    "def plot_column(df,column):\n",
    "\n",
    "    # Plot de la columna\n",
    "    plt.figure(figsize=(8, 6))\n",
    "    df[column].hist(bins=100)\n",
    "    plt.title(f'Gráfico de {column}')\n",
    "    plt.xlabel('Índice')\n",
    "    plt.ylabel('Valor')\n",
    "    plt.grid(True)\n",
    "    plt.show()\n",
    "    # Cálculo de estadísticas\n",
    "    mean = df[column].mean()\n",
    "    std = df[column].std()\n",
    "    min_value = df[column].min()\n",
    "    max_value = df[column].max()\n",
    "    \n",
    "    print(f\"Media: {mean}\")\n",
    "    print(f\"Desviación estándar: {std}\")\n",
    "    print(f\"Valor mínimo: {min_value}\")\n",
    "    print(f\"Valor máximo: {max_value}\")"
   ]
  },
  {
   "cell_type": "markdown",
   "id": "7d5efc05",
   "metadata": {},
   "source": [
    "## Análisis y pretratamiento de datos por columna"
   ]
  },
  {
   "cell_type": "markdown",
   "id": "bf916e47",
   "metadata": {},
   "source": [
    "### Análisis y pretratamiento columna: Region \n"
   ]
  },
  {
   "cell_type": "code",
   "execution_count": 101,
   "id": "9d60506b-5012-419b-9fb4-3ae2068f6987",
   "metadata": {},
   "outputs": [
    {
     "data": {
      "text/plain": [
       "Region\n",
       "3.0    308\n",
       "1.0     75\n",
       "2.0     45\n",
       "NaN     22\n",
       "Name: count, dtype: int64"
      ]
     },
     "execution_count": 101,
     "metadata": {},
     "output_type": "execute_result"
    }
   ],
   "source": [
    "df['Region'].value_counts(dropna=False)\n",
    "\n",
    "# 1.0 -> Lisbon\n",
    "# 2.0 -> Oporto\n",
    "# 3.0 -> Other region"
   ]
  },
  {
   "cell_type": "code",
   "execution_count": 102,
   "id": "f7d03023",
   "metadata": {},
   "outputs": [],
   "source": [
    "df.loc[df['Region'].isna() == True, 'Region'] = 3.0 # Reemplazo por la moda"
   ]
  },
  {
   "cell_type": "markdown",
   "id": "73152fe3",
   "metadata": {},
   "source": [
    "### Análisis y pretratamiento columna: Fresh \n"
   ]
  },
  {
   "cell_type": "code",
   "execution_count": 103,
   "id": "8781a648-0c2e-420b-ad6c-c774f238cdc6",
   "metadata": {},
   "outputs": [
    {
     "data": {
      "image/png": "[encoded data removed]",
      "text/plain": [
       "<Figure size 800x600 with 1 Axes>"
      ]
     },
     "metadata": {},
     "output_type": "display_data"
    },
    {
     "name": "stdout",
     "output_type": "stream",
     "text": [
      "Media: 21620.102222222224\n",
      "Desviación estándar: 105000.7964474333\n",
      "Valor mínimo: 3.0\n",
      "Valor máximo: 1121510.0\n"
     ]
    }
   ],
   "source": [
    "plot_column(df,'Fresh') "
   ]
  },
  {
   "cell_type": "code",
   "execution_count": 104,
   "id": "2212d2fd-4008-4d6e-8d9e-3ecd2fa102d4",
   "metadata": {},
   "outputs": [
    {
     "data": {
      "text/html": [
       "<div>\n",
       "<style scoped>\n",
       "    .dataframe tbody tr th:only-of-type {\n",
       "        vertical-align: middle;\n",
       "    }\n",
       "\n",
       "    .dataframe tbody tr th {\n",
       "        vertical-align: top;\n",
       "    }\n",
       "\n",
       "    .dataframe thead th {\n",
       "        text-align: right;\n",
       "    }\n",
       "</style>\n",
       "<table border=\"1\" class=\"dataframe\">\n",
       "  <thead>\n",
       "    <tr style=\"text-align: right;\">\n",
       "      <th></th>\n",
       "      <th>Channel</th>\n",
       "      <th>Region</th>\n",
       "      <th>Fresh</th>\n",
       "      <th>Milk</th>\n",
       "      <th>Grocery</th>\n",
       "      <th>Frozen</th>\n",
       "      <th>Detergents_Paper</th>\n",
       "      <th>Delicassen</th>\n",
       "    </tr>\n",
       "  </thead>\n",
       "  <tbody>\n",
       "    <tr>\n",
       "      <th>54</th>\n",
       "      <td>1.0</td>\n",
       "      <td>3.0</td>\n",
       "      <td>1121510.0</td>\n",
       "      <td>1449.0</td>\n",
       "      <td>1947.0</td>\n",
       "      <td>2436.0</td>\n",
       "      <td>204.0</td>\n",
       "      <td>1333.0</td>\n",
       "    </tr>\n",
       "    <tr>\n",
       "      <th>154</th>\n",
       "      <td>1.0</td>\n",
       "      <td>3.0</td>\n",
       "      <td>1121510.0</td>\n",
       "      <td>55.0</td>\n",
       "      <td>137.0</td>\n",
       "      <td>75.0</td>\n",
       "      <td>7.0</td>\n",
       "      <td>8.0</td>\n",
       "    </tr>\n",
       "    <tr>\n",
       "      <th>230</th>\n",
       "      <td>2.0</td>\n",
       "      <td>1.0</td>\n",
       "      <td>1121510.0</td>\n",
       "      <td>5989.0</td>\n",
       "      <td>5615.0</td>\n",
       "      <td>8321.0</td>\n",
       "      <td>955.0</td>\n",
       "      <td>2137.0</td>\n",
       "    </tr>\n",
       "    <tr>\n",
       "      <th>307</th>\n",
       "      <td>1.0</td>\n",
       "      <td>2.0</td>\n",
       "      <td>1121510.0</td>\n",
       "      <td>2374.0</td>\n",
       "      <td>2842.0</td>\n",
       "      <td>1149.0</td>\n",
       "      <td>351.0</td>\n",
       "      <td>925.0</td>\n",
       "    </tr>\n",
       "  </tbody>\n",
       "</table>\n",
       "</div>"
      ],
      "text/plain": [
       "     Channel  Region      Fresh    Milk  Grocery  Frozen  Detergents_Paper  \\\n",
       "54       1.0     3.0  1121510.0  1449.0   1947.0  2436.0             204.0   \n",
       "154      1.0     3.0  1121510.0    55.0    137.0    75.0               7.0   \n",
       "230      2.0     1.0  1121510.0  5989.0   5615.0  8321.0             955.0   \n",
       "307      1.0     2.0  1121510.0  2374.0   2842.0  1149.0             351.0   \n",
       "\n",
       "     Delicassen  \n",
       "54       1333.0  \n",
       "154         8.0  \n",
       "230      2137.0  \n",
       "307       925.0  "
      ]
     },
     "execution_count": 104,
     "metadata": {},
     "output_type": "execute_result"
    }
   ],
   "source": [
    "df[df['Fresh']>200000] #Se muestran los outliers"
   ]
  },
  {
   "cell_type": "code",
   "execution_count": 105,
   "id": "08cb8c83",
   "metadata": {},
   "outputs": [],
   "source": [
    "\n",
    "df = df.drop(df[df['Fresh']>200000].index) #Eliminación de outliers"
   ]
  },
  {
   "cell_type": "markdown",
   "id": "f60004fe",
   "metadata": {},
   "source": [
    "### Análisis y pretratamiento columna: Milk \n"
   ]
  },
  {
   "cell_type": "code",
   "execution_count": 106,
   "id": "afc7e9d6",
   "metadata": {},
   "outputs": [
    {
     "data": {
      "image/png": "[encoded data removed]",
      "text/plain": [
       "<Figure size 800x600 with 1 Axes>"
      ]
     },
     "metadata": {},
     "output_type": "display_data"
    },
    {
     "name": "stdout",
     "output_type": "stream",
     "text": [
      "Media: 13783.943946188341\n",
      "Desviación estándar: 77160.52242101118\n",
      "Valor mínimo: 112.0\n",
      "Valor máximo: 734980.0\n"
     ]
    }
   ],
   "source": [
    "plot_column(df,'Milk') "
   ]
  },
  {
   "cell_type": "code",
   "execution_count": 107,
   "id": "346c767d-9070-4d93-b4af-5d51e6db85e8",
   "metadata": {},
   "outputs": [
    {
     "data": {
      "text/html": [
       "<div>\n",
       "<style scoped>\n",
       "    .dataframe tbody tr th:only-of-type {\n",
       "        vertical-align: middle;\n",
       "    }\n",
       "\n",
       "    .dataframe tbody tr th {\n",
       "        vertical-align: top;\n",
       "    }\n",
       "\n",
       "    .dataframe thead th {\n",
       "        text-align: right;\n",
       "    }\n",
       "</style>\n",
       "<table border=\"1\" class=\"dataframe\">\n",
       "  <thead>\n",
       "    <tr style=\"text-align: right;\">\n",
       "      <th></th>\n",
       "      <th>Channel</th>\n",
       "      <th>Region</th>\n",
       "      <th>Fresh</th>\n",
       "      <th>Milk</th>\n",
       "      <th>Grocery</th>\n",
       "      <th>Frozen</th>\n",
       "      <th>Detergents_Paper</th>\n",
       "      <th>Delicassen</th>\n",
       "    </tr>\n",
       "  </thead>\n",
       "  <tbody>\n",
       "    <tr>\n",
       "      <th>86</th>\n",
       "      <td>2.0</td>\n",
       "      <td>3.0</td>\n",
       "      <td>22925.0</td>\n",
       "      <td>734980.0</td>\n",
       "      <td>32114.0</td>\n",
       "      <td>987.0</td>\n",
       "      <td>20070.0</td>\n",
       "      <td>903.0</td>\n",
       "    </tr>\n",
       "    <tr>\n",
       "      <th>209</th>\n",
       "      <td>2.0</td>\n",
       "      <td>3.0</td>\n",
       "      <td>5550.0</td>\n",
       "      <td>734980.0</td>\n",
       "      <td>16767.0</td>\n",
       "      <td>864.0</td>\n",
       "      <td>12420.0</td>\n",
       "      <td>797.0</td>\n",
       "    </tr>\n",
       "    <tr>\n",
       "      <th>266</th>\n",
       "      <td>2.0</td>\n",
       "      <td>1.0</td>\n",
       "      <td>572.0</td>\n",
       "      <td>734980.0</td>\n",
       "      <td>22182.0</td>\n",
       "      <td>2221.0</td>\n",
       "      <td>4882.0</td>\n",
       "      <td>2563.0</td>\n",
       "    </tr>\n",
       "    <tr>\n",
       "      <th>296</th>\n",
       "      <td>1.0</td>\n",
       "      <td>2.0</td>\n",
       "      <td>19087.0</td>\n",
       "      <td>734980.0</td>\n",
       "      <td>927800.0</td>\n",
       "      <td>3045.0</td>\n",
       "      <td>710.0</td>\n",
       "      <td>898.0</td>\n",
       "    </tr>\n",
       "    <tr>\n",
       "      <th>440</th>\n",
       "      <td>2.0</td>\n",
       "      <td>3.0</td>\n",
       "      <td>22925.0</td>\n",
       "      <td>734980.0</td>\n",
       "      <td>32114.0</td>\n",
       "      <td>987.0</td>\n",
       "      <td>20070.0</td>\n",
       "      <td>903.0</td>\n",
       "    </tr>\n",
       "  </tbody>\n",
       "</table>\n",
       "</div>"
      ],
      "text/plain": [
       "     Channel  Region    Fresh      Milk   Grocery  Frozen  Detergents_Paper  \\\n",
       "86       2.0     3.0  22925.0  734980.0   32114.0   987.0           20070.0   \n",
       "209      2.0     3.0   5550.0  734980.0   16767.0   864.0           12420.0   \n",
       "266      2.0     1.0    572.0  734980.0   22182.0  2221.0            4882.0   \n",
       "296      1.0     2.0  19087.0  734980.0  927800.0  3045.0             710.0   \n",
       "440      2.0     3.0  22925.0  734980.0   32114.0   987.0           20070.0   \n",
       "\n",
       "     Delicassen  \n",
       "86        903.0  \n",
       "209       797.0  \n",
       "266      2563.0  \n",
       "296       898.0  \n",
       "440       903.0  "
      ]
     },
     "execution_count": 107,
     "metadata": {},
     "output_type": "execute_result"
    }
   ],
   "source": [
    "df[df['Milk']>=100000] #Estos tienen pinta de outliers porque los 5 tienen 734980"
   ]
  },
  {
   "cell_type": "code",
   "execution_count": 108,
   "id": "e8cc1e1c",
   "metadata": {},
   "outputs": [],
   "source": [
    "df = df.drop(df[df['Milk']>100000].index) #Eliminación de outliers"
   ]
  },
  {
   "cell_type": "markdown",
   "id": "1cd69ebd",
   "metadata": {},
   "source": [
    "### Análisis y pretratamiento columna: Grocery \n"
   ]
  },
  {
   "cell_type": "code",
   "execution_count": 109,
   "id": "af7f23b2",
   "metadata": {},
   "outputs": [
    {
     "data": {
      "image/png": "[encoded data removed]",
      "text/plain": [
       "<Figure size 800x600 with 1 Axes>"
      ]
     },
     "metadata": {},
     "output_type": "display_data"
    },
    {
     "name": "stdout",
     "output_type": "stream",
     "text": [
      "Media: 13975.63492063492\n",
      "Desviación estándar: 76284.14390178196\n",
      "Valor mínimo: 3.0\n",
      "Valor máximo: 927800.0\n"
     ]
    }
   ],
   "source": [
    "plot_column(df,'Grocery') "
   ]
  },
  {
   "cell_type": "code",
   "execution_count": 110,
   "id": "e9756c4b-4c3e-47e4-a826-28bd28eca9c9",
   "metadata": {},
   "outputs": [
    {
     "data": {
      "text/html": [
       "<div>\n",
       "<style scoped>\n",
       "    .dataframe tbody tr th:only-of-type {\n",
       "        vertical-align: middle;\n",
       "    }\n",
       "\n",
       "    .dataframe tbody tr th {\n",
       "        vertical-align: top;\n",
       "    }\n",
       "\n",
       "    .dataframe thead th {\n",
       "        text-align: right;\n",
       "    }\n",
       "</style>\n",
       "<table border=\"1\" class=\"dataframe\">\n",
       "  <thead>\n",
       "    <tr style=\"text-align: right;\">\n",
       "      <th></th>\n",
       "      <th>Channel</th>\n",
       "      <th>Region</th>\n",
       "      <th>Fresh</th>\n",
       "      <th>Milk</th>\n",
       "      <th>Grocery</th>\n",
       "      <th>Frozen</th>\n",
       "      <th>Detergents_Paper</th>\n",
       "      <th>Delicassen</th>\n",
       "    </tr>\n",
       "  </thead>\n",
       "  <tbody>\n",
       "    <tr>\n",
       "      <th>6</th>\n",
       "      <td>2.0</td>\n",
       "      <td>3.0</td>\n",
       "      <td>12126.0</td>\n",
       "      <td>3199.0</td>\n",
       "      <td>927800.0</td>\n",
       "      <td>480.0</td>\n",
       "      <td>3140.0</td>\n",
       "      <td>545.0</td>\n",
       "    </tr>\n",
       "    <tr>\n",
       "      <th>197</th>\n",
       "      <td>2.0</td>\n",
       "      <td>1.0</td>\n",
       "      <td>2427.0</td>\n",
       "      <td>7097.0</td>\n",
       "      <td>927800.0</td>\n",
       "      <td>1127.0</td>\n",
       "      <td>4314.0</td>\n",
       "      <td>1468.0</td>\n",
       "    </tr>\n",
       "    <tr>\n",
       "      <th>430</th>\n",
       "      <td>1.0</td>\n",
       "      <td>3.0</td>\n",
       "      <td>3097.0</td>\n",
       "      <td>4230.0</td>\n",
       "      <td>927800.0</td>\n",
       "      <td>1504.0</td>\n",
       "      <td>241.0</td>\n",
       "      <td>2080.0</td>\n",
       "    </tr>\n",
       "  </tbody>\n",
       "</table>\n",
       "</div>"
      ],
      "text/plain": [
       "     Channel  Region    Fresh    Milk   Grocery  Frozen  Detergents_Paper  \\\n",
       "6        2.0     3.0  12126.0  3199.0  927800.0   480.0            3140.0   \n",
       "197      2.0     1.0   2427.0  7097.0  927800.0  1127.0            4314.0   \n",
       "430      1.0     3.0   3097.0  4230.0  927800.0  1504.0             241.0   \n",
       "\n",
       "     Delicassen  \n",
       "6         545.0  \n",
       "197      1468.0  \n",
       "430      2080.0  "
      ]
     },
     "execution_count": 110,
     "metadata": {},
     "output_type": "execute_result"
    }
   ],
   "source": [
    "df[df['Grocery']>=200000] #Estos tienen pinta de outliers porque los 5 tienen 927800"
   ]
  },
  {
   "cell_type": "code",
   "execution_count": 111,
   "id": "533154db",
   "metadata": {},
   "outputs": [],
   "source": [
    "df = df.drop(df[df['Grocery']>200000].index) #Eliminación de outliers"
   ]
  },
  {
   "cell_type": "markdown",
   "id": "49e35fa6",
   "metadata": {},
   "source": [
    "### Análisis y pretratamiento columna: Frozen \n"
   ]
  },
  {
   "cell_type": "code",
   "execution_count": 112,
   "id": "40d952f3",
   "metadata": {},
   "outputs": [
    {
     "data": {
      "image/png": "[encoded data removed]",
      "text/plain": [
       "<Figure size 800x600 with 1 Axes>"
      ]
     },
     "metadata": {},
     "output_type": "display_data"
    },
    {
     "name": "stdout",
     "output_type": "stream",
     "text": [
      "Media: 2943.1575342465753\n",
      "Desviación estándar: 4563.381788305199\n",
      "Valor mínimo: 25.0\n",
      "Valor máximo: 60869.0\n"
     ]
    }
   ],
   "source": [
    "plot_column(df,'Frozen') "
   ]
  },
  {
   "cell_type": "code",
   "execution_count": 113,
   "id": "fad19720",
   "metadata": {},
   "outputs": [
    {
     "data": {
      "text/html": [
       "<div>\n",
       "<style scoped>\n",
       "    .dataframe tbody tr th:only-of-type {\n",
       "        vertical-align: middle;\n",
       "    }\n",
       "\n",
       "    .dataframe tbody tr th {\n",
       "        vertical-align: top;\n",
       "    }\n",
       "\n",
       "    .dataframe thead th {\n",
       "        text-align: right;\n",
       "    }\n",
       "</style>\n",
       "<table border=\"1\" class=\"dataframe\">\n",
       "  <thead>\n",
       "    <tr style=\"text-align: right;\">\n",
       "      <th></th>\n",
       "      <th>Channel</th>\n",
       "      <th>Region</th>\n",
       "      <th>Fresh</th>\n",
       "      <th>Milk</th>\n",
       "      <th>Grocery</th>\n",
       "      <th>Frozen</th>\n",
       "      <th>Detergents_Paper</th>\n",
       "      <th>Delicassen</th>\n",
       "    </tr>\n",
       "  </thead>\n",
       "  <tbody>\n",
       "    <tr>\n",
       "      <th>93</th>\n",
       "      <td>1.0</td>\n",
       "      <td>3.0</td>\n",
       "      <td>11314.0</td>\n",
       "      <td>3090.0</td>\n",
       "      <td>2062.0</td>\n",
       "      <td>35009.0</td>\n",
       "      <td>71.0</td>\n",
       "      <td>2698.0</td>\n",
       "    </tr>\n",
       "    <tr>\n",
       "      <th>325</th>\n",
       "      <td>1.0</td>\n",
       "      <td>2.0</td>\n",
       "      <td>32717.0</td>\n",
       "      <td>16784.0</td>\n",
       "      <td>13626.0</td>\n",
       "      <td>60869.0</td>\n",
       "      <td>1272.0</td>\n",
       "      <td>5609.0</td>\n",
       "    </tr>\n",
       "  </tbody>\n",
       "</table>\n",
       "</div>"
      ],
      "text/plain": [
       "     Channel  Region    Fresh     Milk  Grocery   Frozen  Detergents_Paper  \\\n",
       "93       1.0     3.0  11314.0   3090.0   2062.0  35009.0              71.0   \n",
       "325      1.0     2.0  32717.0  16784.0  13626.0  60869.0            1272.0   \n",
       "\n",
       "     Delicassen  \n",
       "93       2698.0  \n",
       "325      5609.0  "
      ]
     },
     "execution_count": 113,
     "metadata": {},
     "output_type": "execute_result"
    }
   ],
   "source": [
    "df[df['Frozen']>=20000] \n",
    "#TODO: Los dejamos y los justificamos por el lugar donde los compran."
   ]
  },
  {
   "cell_type": "markdown",
   "id": "cc610de9",
   "metadata": {},
   "source": [
    "### Análisis y pretratamiento columna: Detergents_Paper \n"
   ]
  },
  {
   "cell_type": "code",
   "execution_count": 114,
   "id": "2e35a8ec",
   "metadata": {},
   "outputs": [
    {
     "data": {
      "image/png": "[encoded data removed]",
      "text/plain": [
       "<Figure size 800x600 with 1 Axes>"
      ]
     },
     "metadata": {},
     "output_type": "display_data"
    },
    {
     "name": "stdout",
     "output_type": "stream",
     "text": [
      "Media: 2691.785388127854\n",
      "Desviación estándar: 4663.432771788851\n",
      "Valor mínimo: 3.0\n",
      "Valor máximo: 40827.0\n"
     ]
    }
   ],
   "source": [
    "plot_column(df,'Detergents_Paper') "
   ]
  },
  {
   "cell_type": "code",
   "execution_count": 115,
   "id": "763c9ca7-6da4-4386-b3ad-79416ff0a31f",
   "metadata": {},
   "outputs": [
    {
     "data": {
      "text/html": [
       "<div>\n",
       "<style scoped>\n",
       "    .dataframe tbody tr th:only-of-type {\n",
       "        vertical-align: middle;\n",
       "    }\n",
       "\n",
       "    .dataframe tbody tr th {\n",
       "        vertical-align: top;\n",
       "    }\n",
       "\n",
       "    .dataframe thead th {\n",
       "        text-align: right;\n",
       "    }\n",
       "</style>\n",
       "<table border=\"1\" class=\"dataframe\">\n",
       "  <thead>\n",
       "    <tr style=\"text-align: right;\">\n",
       "      <th></th>\n",
       "      <th>Channel</th>\n",
       "      <th>Region</th>\n",
       "      <th>Fresh</th>\n",
       "      <th>Milk</th>\n",
       "      <th>Grocery</th>\n",
       "      <th>Frozen</th>\n",
       "      <th>Detergents_Paper</th>\n",
       "      <th>Delicassen</th>\n",
       "    </tr>\n",
       "  </thead>\n",
       "  <tbody>\n",
       "    <tr>\n",
       "      <th>85</th>\n",
       "      <td>2.0</td>\n",
       "      <td>3.0</td>\n",
       "      <td>16117.0</td>\n",
       "      <td>46197.0</td>\n",
       "      <td>92780.0</td>\n",
       "      <td>1026.0</td>\n",
       "      <td>40827.0</td>\n",
       "      <td>2944.0</td>\n",
       "    </tr>\n",
       "    <tr>\n",
       "      <th>333</th>\n",
       "      <td>2.0</td>\n",
       "      <td>2.0</td>\n",
       "      <td>8565.0</td>\n",
       "      <td>4980.0</td>\n",
       "      <td>67298.0</td>\n",
       "      <td>131.0</td>\n",
       "      <td>38102.0</td>\n",
       "      <td>1215.0</td>\n",
       "    </tr>\n",
       "  </tbody>\n",
       "</table>\n",
       "</div>"
      ],
      "text/plain": [
       "     Channel  Region    Fresh     Milk  Grocery  Frozen  Detergents_Paper  \\\n",
       "85       2.0     3.0  16117.0  46197.0  92780.0  1026.0           40827.0   \n",
       "333      2.0     2.0   8565.0   4980.0  67298.0   131.0           38102.0   \n",
       "\n",
       "     Delicassen  \n",
       "85       2944.0  \n",
       "333      1215.0  "
      ]
     },
     "execution_count": 115,
     "metadata": {},
     "output_type": "execute_result"
    }
   ],
   "source": [
    "df[df['Detergents_Paper']>30000]\n",
    "\n",
    "\n",
    "#TODO: Checkear el 92780 de Grocery\n"
   ]
  },
  {
   "cell_type": "code",
   "execution_count": 116,
   "id": "e02d2f5e",
   "metadata": {},
   "outputs": [],
   "source": [
    "df = df.drop(df[df['Detergents_Paper']>200000].index) #Eliminación de outliers"
   ]
  },
  {
   "cell_type": "markdown",
   "id": "88b2b2e7",
   "metadata": {},
   "source": [
    "### Análisis y pretratamiento columna: Delicassen \n"
   ]
  },
  {
   "cell_type": "code",
   "execution_count": 117,
   "id": "ae34af9f",
   "metadata": {},
   "outputs": [
    {
     "data": {
      "image/png": "[encoded data removed]",
      "text/plain": [
       "<Figure size 800x600 with 1 Axes>"
      ]
     },
     "metadata": {},
     "output_type": "display_data"
    },
    {
     "name": "stdout",
     "output_type": "stream",
     "text": [
      "Media: 1512.3698630136987\n",
      "Desviación estándar: 2822.986011844794\n",
      "Valor mínimo: 3.0\n",
      "Valor máximo: 47943.0\n"
     ]
    }
   ],
   "source": [
    "plot_column(df,'Delicassen') "
   ]
  },
  {
   "cell_type": "code",
   "execution_count": 118,
   "id": "b3e67227-630a-405c-a7d9-286364d0a3c8",
   "metadata": {},
   "outputs": [
    {
     "data": {
      "text/html": [
       "<div>\n",
       "<style scoped>\n",
       "    .dataframe tbody tr th:only-of-type {\n",
       "        vertical-align: middle;\n",
       "    }\n",
       "\n",
       "    .dataframe tbody tr th {\n",
       "        vertical-align: top;\n",
       "    }\n",
       "\n",
       "    .dataframe thead th {\n",
       "        text-align: right;\n",
       "    }\n",
       "</style>\n",
       "<table border=\"1\" class=\"dataframe\">\n",
       "  <thead>\n",
       "    <tr style=\"text-align: right;\">\n",
       "      <th></th>\n",
       "      <th>Channel</th>\n",
       "      <th>Region</th>\n",
       "      <th>Fresh</th>\n",
       "      <th>Milk</th>\n",
       "      <th>Grocery</th>\n",
       "      <th>Frozen</th>\n",
       "      <th>Detergents_Paper</th>\n",
       "      <th>Delicassen</th>\n",
       "    </tr>\n",
       "  </thead>\n",
       "  <tbody>\n",
       "    <tr>\n",
       "      <th>183</th>\n",
       "      <td>1.0</td>\n",
       "      <td>3.0</td>\n",
       "      <td>36847.0</td>\n",
       "      <td>43950.0</td>\n",
       "      <td>20170.0</td>\n",
       "      <td>1504.0</td>\n",
       "      <td>239.0</td>\n",
       "      <td>47943.0</td>\n",
       "    </tr>\n",
       "  </tbody>\n",
       "</table>\n",
       "</div>"
      ],
      "text/plain": [
       "     Channel  Region    Fresh     Milk  Grocery  Frozen  Detergents_Paper  \\\n",
       "183      1.0     3.0  36847.0  43950.0  20170.0  1504.0             239.0   \n",
       "\n",
       "     Delicassen  \n",
       "183     47943.0  "
      ]
     },
     "execution_count": 118,
     "metadata": {},
     "output_type": "execute_result"
    }
   ],
   "source": [
    "df[df['Delicassen']>20000]"
   ]
  },
  {
   "cell_type": "code",
   "execution_count": 119,
   "id": "fa8e2bfa",
   "metadata": {},
   "outputs": [],
   "source": [
    "df = df.drop(df[df['Delicassen']>20000].index) #Eliminación de outliers"
   ]
  },
  {
   "cell_type": "code",
   "execution_count": 120,
   "id": "51b8a6da-842d-4599-9106-9e2397bc02fb",
   "metadata": {},
   "outputs": [
    {
     "name": "stdout",
     "output_type": "stream",
     "text": [
      "COLUMN: Channel\n",
      "    Media: 1.299771167048055\n",
      "    Desviación estándar: 0.458682739780187\n",
      "    Valor mínimo: 1.0\n",
      "    Valor máximo: 2.0\n",
      "COLUMN: Region\n",
      "    Media: 2.5720823798627004\n",
      "    Desviación estándar: 0.7587099822954027\n",
      "    Valor mínimo: 1.0\n",
      "    Valor máximo: 3.0\n",
      "COLUMN: Fresh\n",
      "    Media: 11710.411899313502\n",
      "    Desviación estándar: 12360.238954544368\n",
      "    Valor mínimo: 3.0\n",
      "    Valor máximo: 112151.0\n",
      "COLUMN: Milk\n",
      "    Media: 5524.629290617849\n",
      "    Desviación estándar: 6394.839682169823\n",
      "    Valor mínimo: 112.0\n",
      "    Valor máximo: 54259.0\n",
      "COLUMN: Grocery\n",
      "    Media: 7688.066361556064\n",
      "    Desviación estándar: 9328.318386990888\n",
      "    Valor mínimo: 3.0\n",
      "    Valor máximo: 92780.0\n",
      "COLUMN: Frozen\n",
      "    Media: 2946.450800915332\n",
      "    Desviación estándar: 4568.090912296917\n",
      "    Valor mínimo: 25.0\n",
      "    Valor máximo: 60869.0\n",
      "COLUMN: Detergents_Paper\n",
      "    Media: 2697.3981693363844\n",
      "    Desviación estándar: 4667.296320848093\n",
      "    Valor mínimo: 3.0\n",
      "    Valor máximo: 40827.0\n",
      "COLUMN: Delicassen\n",
      "    Media: 1406.121281464531\n",
      "    Desviación estándar: 1741.1806975427912\n",
      "    Valor mínimo: 3.0\n",
      "    Valor máximo: 16523.0\n"
     ]
    }
   ],
   "source": [
    "for column in [\"Channel\", \"Region\", \"Fresh\" ,\"Milk\",\"Grocery\",\"Frozen\" ,\"Detergents_Paper\",\"Delicassen\"]:\n",
    "    # Cálculo de estadísticas\n",
    "    mean = df[column].mean()\n",
    "    std = df[column].std()\n",
    "    min_value = df[column].min()\n",
    "    max_value = df[column].max()\n",
    "    print(f\"COLUMN: {column}\")\n",
    "    print(f\"    Media: {mean}\")\n",
    "    print(f\"    Desviación estándar: {std}\")\n",
    "    print(f\"    Valor mínimo: {min_value}\")\n",
    "    print(f\"    Valor máximo: {max_value}\")"
   ]
  },
  {
   "cell_type": "markdown",
   "id": "59b6da6b-2565-4bae-9ae7-097da96e85e8",
   "metadata": {},
   "source": [
    "# Normalización de variables"
   ]
  },
  {
   "cell_type": "code",
   "execution_count": 121,
   "id": "90998ec0-3d0f-4753-b798-f4aea7529712",
   "metadata": {},
   "outputs": [
    {
     "data": {
      "text/html": [
       "<div>\n",
       "<style scoped>\n",
       "    .dataframe tbody tr th:only-of-type {\n",
       "        vertical-align: middle;\n",
       "    }\n",
       "\n",
       "    .dataframe tbody tr th {\n",
       "        vertical-align: top;\n",
       "    }\n",
       "\n",
       "    .dataframe thead th {\n",
       "        text-align: right;\n",
       "    }\n",
       "</style>\n",
       "<table border=\"1\" class=\"dataframe\">\n",
       "  <thead>\n",
       "    <tr style=\"text-align: right;\">\n",
       "      <th></th>\n",
       "      <th>Channel</th>\n",
       "      <th>Region</th>\n",
       "      <th>Fresh</th>\n",
       "      <th>Milk</th>\n",
       "      <th>Grocery</th>\n",
       "      <th>Frozen</th>\n",
       "      <th>Detergents_Paper</th>\n",
       "      <th>Delicassen</th>\n",
       "    </tr>\n",
       "  </thead>\n",
       "  <tbody>\n",
       "    <tr>\n",
       "      <th>0</th>\n",
       "      <td>1.528358</td>\n",
       "      <td>0.564653</td>\n",
       "      <td>0.077643</td>\n",
       "      <td>0.646788</td>\n",
       "      <td>-0.013637</td>\n",
       "      <td>-0.598846</td>\n",
       "      <td>-0.005019</td>\n",
       "      <td>-0.039168</td>\n",
       "    </tr>\n",
       "    <tr>\n",
       "      <th>1</th>\n",
       "      <td>1.528358</td>\n",
       "      <td>0.564653</td>\n",
       "      <td>-0.376914</td>\n",
       "      <td>0.670898</td>\n",
       "      <td>0.201761</td>\n",
       "      <td>-0.259585</td>\n",
       "      <td>0.127758</td>\n",
       "      <td>0.212673</td>\n",
       "    </tr>\n",
       "    <tr>\n",
       "      <th>2</th>\n",
       "      <td>1.528358</td>\n",
       "      <td>0.564653</td>\n",
       "      <td>-0.433936</td>\n",
       "      <td>0.514029</td>\n",
       "      <td>-0.000436</td>\n",
       "      <td>-0.118665</td>\n",
       "      <td>0.175592</td>\n",
       "      <td>3.701659</td>\n",
       "    </tr>\n",
       "    <tr>\n",
       "      <th>3</th>\n",
       "      <td>-0.654297</td>\n",
       "      <td>0.564653</td>\n",
       "      <td>0.125917</td>\n",
       "      <td>-0.677670</td>\n",
       "      <td>-0.372097</td>\n",
       "      <td>0.757759</td>\n",
       "      <td>-0.469846</td>\n",
       "      <td>0.219573</td>\n",
       "    </tr>\n",
       "    <tr>\n",
       "      <th>4</th>\n",
       "      <td>1.528358</td>\n",
       "      <td>0.564653</td>\n",
       "      <td>0.883242</td>\n",
       "      <td>-0.017946</td>\n",
       "      <td>-0.052596</td>\n",
       "      <td>0.212268</td>\n",
       "      <td>-0.197428</td>\n",
       "      <td>2.172784</td>\n",
       "    </tr>\n",
       "  </tbody>\n",
       "</table>\n",
       "</div>"
      ],
      "text/plain": [
       "    Channel    Region     Fresh      Milk   Grocery    Frozen  \\\n",
       "0  1.528358  0.564653  0.077643  0.646788 -0.013637 -0.598846   \n",
       "1  1.528358  0.564653 -0.376914  0.670898  0.201761 -0.259585   \n",
       "2  1.528358  0.564653 -0.433936  0.514029 -0.000436 -0.118665   \n",
       "3 -0.654297  0.564653  0.125917 -0.677670 -0.372097  0.757759   \n",
       "4  1.528358  0.564653  0.883242 -0.017946 -0.052596  0.212268   \n",
       "\n",
       "   Detergents_Paper  Delicassen  \n",
       "0         -0.005019   -0.039168  \n",
       "1          0.127758    0.212673  \n",
       "2          0.175592    3.701659  \n",
       "3         -0.469846    0.219573  \n",
       "4         -0.197428    2.172784  "
      ]
     },
     "execution_count": 121,
     "metadata": {},
     "output_type": "execute_result"
    }
   ],
   "source": [
    "#Normalizar las variables\n",
    "from sklearn.preprocessing import StandardScaler\n",
    "# Se inicializa el escalador MinMax\n",
    "scaler = StandardScaler()\n",
    "\n",
    "for column in [\"Channel\", \"Region\",\"Fresh\" ,\"Milk\",\"Grocery\",\"Frozen\" ,\"Detergents_Paper\",\"Delicassen\"]:\n",
    "    # Se normalizan los datos de la columna\n",
    "    normalized_column = scaler.fit_transform(df[[column]])\n",
    "    # Se agregan los datos normalizados al dataframe original\n",
    "    df[column] = normalized_column\n",
    "\n",
    "df.head()"
   ]
  },
  {
   "cell_type": "code",
   "execution_count": 134,
   "id": "3deccf93-ca3d-4af7-8214-6d5f419df533",
   "metadata": {},
   "outputs": [
    {
     "data": {
      "image/png": "[encoded data removed]",
      "text/plain": [
       "<Figure size 800x600 with 1 Axes>"
      ]
     },
     "metadata": {},
     "output_type": "display_data"
    },
    {
     "name": "stdout",
     "output_type": "stream",
     "text": [
      "Coeficiente de silueta: 0.385325680306147\n"
     ]
    },
    {
     "data": {
      "image/png": "[encoded data removed]",
      "text/plain": [
       "<Figure size 800x600 with 1 Axes>"
      ]
     },
     "metadata": {},
     "output_type": "display_data"
    }
   ],
   "source": [
    "import pandas as pd\n",
    "from sklearn.cluster import KMeans\n",
    "from sklearn.preprocessing import StandardScaler\n",
    "import matplotlib.pyplot as plt\n",
    "from sklearn.metrics import silhouette_score\n",
    "\n",
    "# Suponiendo que tienes tus datos cargados en un DataFrame 'df'\n",
    "# Excluyendo las columnas categóricas 'Channel' y 'Region' si es necesario\n",
    "X = df[['Fresh', 'Milk', 'Grocery', 'Frozen', 'Detergents_Paper', 'Delicassen']]\n",
    "\n",
    "# 1. Escalar los datos\n",
    "scaler = StandardScaler()\n",
    "X_scaled = scaler.fit_transform(X)\n",
    "\n",
    "# 2. Método del codo para determinar el número óptimo de clusters\n",
    "inertia = []\n",
    "K = range(1, 11)\n",
    "for k in K:\n",
    "    kmeans = KMeans(n_clusters=k, random_state=42)\n",
    "    kmeans.fit(X_scaled)\n",
    "    inertia.append(kmeans.inertia_)\n",
    "\n",
    "# Gráfico del método del codo\n",
    "plt.figure(figsize=(8, 6))\n",
    "plt.plot(K, inertia, 'bx-')\n",
    "plt.xlabel('Número de clusters')\n",
    "plt.ylabel('Inercia')\n",
    "plt.title('Método del codo para encontrar el número óptimo de clusters')\n",
    "plt.show()\n",
    "\n",
    "# 3. Aplicar K-means con el número óptimo de clusters (por ejemplo, 3)\n",
    "kmeans = KMeans(n_clusters=4, random_state=42)\n",
    "clusters = kmeans.fit_predict(X_scaled)\n",
    "\n",
    "# Añadir los clusters al DataFrame original\n",
    "df['Cluster'] = clusters\n",
    "\n",
    "# 4. Evaluación con el coeficiente de silueta\n",
    "silueta = silhouette_score(X_scaled, clusters)\n",
    "print(f\"Coeficiente de silueta: {silueta}\")\n",
    "\n",
    "# Visualización opcional con PCA para ver los clusters (si hay más de 2 dimensiones)\n",
    "from sklearn.decomposition import PCA\n",
    "\n",
    "pca = PCA(n_components=2)\n",
    "X_pca = pca.fit_transform(X_scaled)\n",
    "\n",
    "plt.figure(figsize=(8, 6))\n",
    "plt.scatter(X_pca[:, 0], X_pca[:, 1], c=clusters, cmap='viridis')\n",
    "plt.xlabel(f'PCA 1 : {round(pca.explained_variance_ratio_[0] * 100, 2)}%')\n",
    "plt.ylabel(f'PCA 2 : {round(pca.explained_variance_ratio_[1] * 100, 2)}%')\n",
    "plt.title('Clusters visualizados con PCA')\n",
    "plt.show()\n"
   ]
  },
  {
   "cell_type": "markdown",
   "id": "71cf7d13",
   "metadata": {},
   "source": [
    "\n",
    "##### ¿Cómo varía el gasto anual promedio entre las diferentes regiones (Lisbon, Oporto y otras)? Utilizar un gráfico de barras para mostrar el gasto promedio en cada categoría por región, facilitando la comparación de patrones de consumo."
   ]
  },
  {
   "cell_type": "markdown",
   "id": "9721ddfe",
   "metadata": {},
   "source": [
    "##### ¿Existen diferencias significativas en el gasto anual entre los canales (Horeca y Retail)? Comparar el gasto en cada categoría según el canal usando un gráfico de barras o boxplot para resaltar diferencias en patrones de consumo entre Horeca y Retail.\n"
   ]
  },
  {
   "cell_type": "markdown",
   "id": "678559a7",
   "metadata": {},
   "source": [
    "##### ¿Cómo se distribuye el gasto en productos frescos en relación con otros productos? Crear un gráfico de dispersión (scatter plot) comparando FRESH con cada una de las otras categorías, para analizar si existe correlación entre el gasto en productos frescos y otras categorías."
   ]
  },
  {
   "cell_type": "markdown",
   "id": "3eebfc5f",
   "metadata": {},
   "source": [
    "##### ¿Cuál es la proporción de gasto en cada categoría de productos en cada región? Usar un gráfico de pastel o un gráfico de áreas apiladas para representar la proporción de cada categoría en el gasto total por región."
   ]
  },
  {
   "cell_type": "markdown",
   "id": "9fbb4993",
   "metadata": {},
   "source": [
    "##### ¿Cuál es la distribución del gasto anual en cada categoría de productos? Crear un histograma o boxplot para cada categoría (FRESH, MILK, GROCERY, FROZEN, DETERGENTS_PAPER, DELICATESSEN) para visualizar la dispersión del gasto y detectar posibles outliers."
   ]
  },
  {
   "cell_type": "markdown",
   "id": "71b934c8",
   "metadata": {},
   "source": [
    "##### ¿Qué región tiene una mayor proporción de clientes en Horeca vs. Retail? Visualizar la frecuencia de clientes por canal y región con un gráfico de barras apiladas o un mosaico para analizar el predominio de Horeca o Retail en cada región."
   ]
  },
  {
   "cell_type": "markdown",
   "id": "f53faf4f",
   "metadata": {},
   "source": [
    "##### ¿Existen correlaciones entre las categorías de gasto? Crear una matriz de correlación con un heatmap para observar las relaciones entre las distintas categorías de productos y detectar patrones de consumo."
   ]
  },
  {
   "cell_type": "markdown",
   "id": "919d0e4d",
   "metadata": {},
   "source": [
    "##### ¿Cómo varía el gasto en Delicatessen entre regiones y canales? Comparar el gasto promedio en Delicatessen para cada combinación de región y canal usando un gráfico de barras o un boxplot, para explorar diferencias en este tipo de productos."
   ]
  },
  {
   "cell_type": "markdown",
   "id": "db36e2c2",
   "metadata": {},
   "source": [
    "##### ¿Cuál es la variación del gasto promedio en productos de cada tipo en función de la desviación estándar? Representar la media y la desviación estándar de cada categoría en un gráfico de barras para visualizar el nivel de variabilidad de cada tipo de producto."
   ]
  },
  {
   "cell_type": "code",
   "execution_count": 488,
   "id": "03a1311d",
   "metadata": {},
   "outputs": [],
   "source": [
    "# Gasto promedio anual por región\n",
    "\n"
   ]
  }
 ],
 "metadata": {
  "kernelspec": {
   "display_name": "Python 3 (ipykernel)",
   "language": "python",
   "name": "python3"
  },
  "language_info": {
   "codemirror_mode": {
    "name": "ipython",
    "version": 3
   },
   "file_extension": ".py",
   "mimetype": "text/x-python",
   "name": "python",
   "nbconvert_exporter": "python",
   "pygments_lexer": "ipython3",
   "version": "3.12.3"
  }
 },
 "nbformat": 4,
 "nbformat_minor": 5
}

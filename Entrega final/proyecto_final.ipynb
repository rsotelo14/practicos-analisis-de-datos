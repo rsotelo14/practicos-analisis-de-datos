{
 "cells": [
  {
   "cell_type": "code",
   "execution_count": 458,
   "id": "04c142f4-66e0-40a1-ade7-b3de3cdb2363",
   "metadata": {},
   "outputs": [],
   "source": [
    "import pandas as pd\n",
    "import matplotlib.pyplot as plt\n",
    "import numpy as np"
   ]
  },
  {
   "cell_type": "code",
   "execution_count": 459,
   "id": "c0a43678-ed84-4da7-b610-71559b5d02bc",
   "metadata": {},
   "outputs": [
    {
     "data": {
      "text/html": [
       "<div>\n",
       "<style scoped>\n",
       "    .dataframe tbody tr th:only-of-type {\n",
       "        vertical-align: middle;\n",
       "    }\n",
       "\n",
       "    .dataframe tbody tr th {\n",
       "        vertical-align: top;\n",
       "    }\n",
       "\n",
       "    .dataframe thead th {\n",
       "        text-align: right;\n",
       "    }\n",
       "</style>\n",
       "<table border=\"1\" class=\"dataframe\">\n",
       "  <thead>\n",
       "    <tr style=\"text-align: right;\">\n",
       "      <th></th>\n",
       "      <th>Channel</th>\n",
       "      <th>Region</th>\n",
       "      <th>Fresh</th>\n",
       "      <th>Milk</th>\n",
       "      <th>Grocery</th>\n",
       "      <th>Frozen</th>\n",
       "      <th>Detergents_Paper</th>\n",
       "      <th>Delicassen</th>\n",
       "    </tr>\n",
       "  </thead>\n",
       "  <tbody>\n",
       "    <tr>\n",
       "      <th>0</th>\n",
       "      <td>2.0</td>\n",
       "      <td>3.0</td>\n",
       "      <td>12669.0</td>\n",
       "      <td>9656.0</td>\n",
       "      <td>7561.0</td>\n",
       "      <td>214.0</td>\n",
       "      <td>2674.0</td>\n",
       "      <td>1338.0</td>\n",
       "    </tr>\n",
       "    <tr>\n",
       "      <th>1</th>\n",
       "      <td>2.0</td>\n",
       "      <td>3.0</td>\n",
       "      <td>7057.0</td>\n",
       "      <td>9810.0</td>\n",
       "      <td>9568.0</td>\n",
       "      <td>1762.0</td>\n",
       "      <td>3293.0</td>\n",
       "      <td>1776.0</td>\n",
       "    </tr>\n",
       "    <tr>\n",
       "      <th>2</th>\n",
       "      <td>2.0</td>\n",
       "      <td>3.0</td>\n",
       "      <td>6353.0</td>\n",
       "      <td>8808.0</td>\n",
       "      <td>7684.0</td>\n",
       "      <td>2405.0</td>\n",
       "      <td>3516.0</td>\n",
       "      <td>7844.0</td>\n",
       "    </tr>\n",
       "    <tr>\n",
       "      <th>3</th>\n",
       "      <td>1.0</td>\n",
       "      <td>3.0</td>\n",
       "      <td>13265.0</td>\n",
       "      <td>1196.0</td>\n",
       "      <td>4221.0</td>\n",
       "      <td>6404.0</td>\n",
       "      <td>507.0</td>\n",
       "      <td>1788.0</td>\n",
       "    </tr>\n",
       "    <tr>\n",
       "      <th>4</th>\n",
       "      <td>2.0</td>\n",
       "      <td>3.0</td>\n",
       "      <td>22615.0</td>\n",
       "      <td>5410.0</td>\n",
       "      <td>7198.0</td>\n",
       "      <td>3915.0</td>\n",
       "      <td>1777.0</td>\n",
       "      <td>5185.0</td>\n",
       "    </tr>\n",
       "  </tbody>\n",
       "</table>\n",
       "</div>"
      ],
      "text/plain": [
       "   Channel  Region    Fresh    Milk  Grocery  Frozen  Detergents_Paper  \\\n",
       "0      2.0     3.0  12669.0  9656.0   7561.0   214.0            2674.0   \n",
       "1      2.0     3.0   7057.0  9810.0   9568.0  1762.0            3293.0   \n",
       "2      2.0     3.0   6353.0  8808.0   7684.0  2405.0            3516.0   \n",
       "3      1.0     3.0  13265.0  1196.0   4221.0  6404.0             507.0   \n",
       "4      2.0     3.0  22615.0  5410.0   7198.0  3915.0            1777.0   \n",
       "\n",
       "   Delicassen  \n",
       "0      1338.0  \n",
       "1      1776.0  \n",
       "2      7844.0  \n",
       "3      1788.0  \n",
       "4      5185.0  "
      ]
     },
     "execution_count": 459,
     "metadata": {},
     "output_type": "execute_result"
    }
   ],
   "source": [
    "#Load dataset\n",
    "df = pd.read_csv('Tema_7.csv')\n",
    "df.head()"
   ]
  },
  {
   "cell_type": "code",
   "execution_count": 460,
   "id": "738efd74-94f3-44f1-a49a-67b1104af0c4",
   "metadata": {},
   "outputs": [
    {
     "data": {
      "text/plain": [
       "450"
      ]
     },
     "execution_count": 460,
     "metadata": {},
     "output_type": "execute_result"
    }
   ],
   "source": [
    "#Number of rows\n",
    "len(df)"
   ]
  },
  {
   "cell_type": "code",
   "execution_count": 461,
   "id": "3f664b5d-f206-4f64-94b7-d4c44845b5ad",
   "metadata": {},
   "outputs": [
    {
     "data": {
      "text/plain": [
       "Channel             5.111111\n",
       "Region              4.888889\n",
       "Fresh               4.666667\n",
       "Milk                4.888889\n",
       "Grocery             4.888889\n",
       "Frozen              5.111111\n",
       "Detergents_Paper    4.888889\n",
       "Delicassen          5.111111\n",
       "dtype: float64"
      ]
     },
     "execution_count": 461,
     "metadata": {},
     "output_type": "execute_result"
    }
   ],
   "source": [
    "#Nulls\n",
    "null_values = df.isna()\n",
    "porcentages = (null_values.sum() / len(df) * 100)\n",
    "porcentages"
   ]
  },
  {
   "cell_type": "code",
   "execution_count": 462,
   "id": "8ad6eac9-0b2c-4b55-8206-7a209231a511",
   "metadata": {},
   "outputs": [
    {
     "data": {
      "text/plain": [
       "1.0    289\n",
       "2.0    138\n",
       "NaN     23\n",
       "Name: Channel, dtype: int64"
      ]
     },
     "execution_count": 462,
     "metadata": {},
     "output_type": "execute_result"
    }
   ],
   "source": [
    "df['Channel'].value_counts(dropna=False)\n",
    "# 1.0 -> Horeca (hotel, restaurants, café)\n",
    "# 2.0 -> Retail"
   ]
  },
  {
   "cell_type": "code",
   "execution_count": 463,
   "id": "297d3d5f-5d57-40a7-884c-98b161efc993",
   "metadata": {},
   "outputs": [],
   "source": [
    "df.loc[df['Channel'].isna() == True, 'Channel'] = 1.0 # Reemplazo por la moda"
   ]
  },
  {
   "cell_type": "code",
   "execution_count": 464,
   "id": "4d4ea057-8544-4276-a858-e423a1541819",
   "metadata": {},
   "outputs": [],
   "source": [
    "#Change 'invalid_value' to NaN\n",
    "df.loc[df['Fresh']== 'invalid_value', 'Fresh'] = np.nan\n",
    "df['Fresh'] = pd.to_numeric(df['Fresh'], errors='coerce')"
   ]
  },
  {
   "cell_type": "code",
   "execution_count": 465,
   "id": "f7bf90b3-36af-418a-b568-2096d9bf0bc3",
   "metadata": {},
   "outputs": [],
   "source": [
    "for column in [\"Fresh\" ,\"Milk\",\"Grocery\",\"Frozen\" ,\"Detergents_Paper\",\"Delicassen\"]:\n",
    "    df.loc[df[column].isna() == True, column] = df[column].median() # Reemplazo nulls por mediana de las columnas numéricas\n",
    "#Uso la mediana porque tienen un rango muy grande y outliers"
   ]
  },
  {
   "cell_type": "markdown",
   "metadata": {},
   "source": [
    "## Funciones auxiliares"
   ]
  },
  {
   "cell_type": "code",
   "execution_count": 466,
   "metadata": {},
   "outputs": [],
   "source": [
    "def outliers_finder( column ):\n",
    "    fresh_stats = df[column].describe() #Estadísticas de la columna Fresh\n",
    "\n",
    "    #Cálculo de los cuartiles\n",
    "    Q1 = fresh_stats['25%'] #Cuartil 1\n",
    "    Q3 = fresh_stats['75%'] #Cuartil 3\n",
    "\n",
    "    IQR = Q3 - Q1 #Rango intercuartílico, esto es la diferencia entre el cuartil 3 y el cuartil 1\n",
    "\n",
    "    #Cálculo de los límites\n",
    "    lower_limit = Q1 - 3 * IQR\n",
    "    upper_limit = Q3 + 3 * IQR\n",
    "    \n",
    "    #Cálculo de los outliers\n",
    "    return df[(df[column] < lower_limit) | (df[column] > upper_limit)]"
   ]
  },
  {
   "cell_type": "code",
   "execution_count": 467,
   "id": "33a97b6d-628a-40a4-93bb-3899d3b69367",
   "metadata": {},
   "outputs": [],
   "source": [
    "def plot_column(df,column):\n",
    "\n",
    "    # Plot de la columna\n",
    "    plt.figure(figsize=(8, 6))\n",
    "    df[column].hist(bins=100)\n",
    "    plt.title(f'Gráfico de {column}')\n",
    "    plt.xlabel('Índice')\n",
    "    plt.ylabel('Valor')\n",
    "    plt.grid(True)\n",
    "    plt.show()\n",
    "    # Cálculo de estadísticas\n",
    "    mean = df[column].mean()\n",
    "    std = df[column].std()\n",
    "    min_value = df[column].min()\n",
    "    max_value = df[column].max()\n",
    "    \n",
    "    print(f\"Media: {mean}\")\n",
    "    print(f\"Desviación estándar: {std}\")\n",
    "    print(f\"Valor mínimo: {min_value}\")\n",
    "    print(f\"Valor máximo: {max_value}\")"
   ]
  },
  {
   "cell_type": "markdown",
   "metadata": {},
   "source": [
    "## Análisis y pretratamiento de datos por columna"
   ]
  },
  {
   "cell_type": "markdown",
   "metadata": {},
   "source": [
    "### Análisis y pretratamiento columna: Region \n"
   ]
  },
  {
   "cell_type": "code",
   "execution_count": 468,
   "id": "9d60506b-5012-419b-9fb4-3ae2068f6987",
   "metadata": {},
   "outputs": [
    {
     "data": {
      "text/plain": [
       "3.0    308\n",
       "1.0     75\n",
       "2.0     45\n",
       "NaN     22\n",
       "Name: Region, dtype: int64"
      ]
     },
     "execution_count": 468,
     "metadata": {},
     "output_type": "execute_result"
    }
   ],
   "source": [
    "df['Region'].value_counts(dropna=False)\n",
    "\n",
    "# 1.0 -> Lisbon\n",
    "# 2.0 -> Oporto\n",
    "# 3.0 -> Other region"
   ]
  },
  {
   "cell_type": "code",
   "execution_count": 469,
   "metadata": {},
   "outputs": [],
   "source": [
    "df.loc[df['Region'].isna() == True, 'Region'] = 3.0 # Reemplazo por la moda"
   ]
  },
  {
   "cell_type": "markdown",
   "metadata": {},
   "source": [
    "### Análisis y pretratamiento columna: Fresh \n"
   ]
  },
  {
   "cell_type": "code",
   "execution_count": 470,
   "id": "8781a648-0c2e-420b-ad6c-c774f238cdc6",
   "metadata": {},
   "outputs": [
    {
     "data": {
      "image/png": "[encoded data removed]",
      "text/plain": [
       "<Figure size 800x600 with 1 Axes>"
      ]
     },
     "metadata": {},
     "output_type": "display_data"
    },
    {
     "name": "stdout",
     "output_type": "stream",
     "text": [
      "Media: 21620.102222222224\n",
      "Desviación estándar: 105000.7964474333\n",
      "Valor mínimo: 3.0\n",
      "Valor máximo: 1121510.0\n"
     ]
    }
   ],
   "source": [
    "plot_column(df,'Fresh') "
   ]
  },
  {
   "cell_type": "code",
   "execution_count": 471,
   "id": "2212d2fd-4008-4d6e-8d9e-3ecd2fa102d4",
   "metadata": {},
   "outputs": [
    {
     "data": {
      "text/html": [
       "<div>\n",
       "<style scoped>\n",
       "    .dataframe tbody tr th:only-of-type {\n",
       "        vertical-align: middle;\n",
       "    }\n",
       "\n",
       "    .dataframe tbody tr th {\n",
       "        vertical-align: top;\n",
       "    }\n",
       "\n",
       "    .dataframe thead th {\n",
       "        text-align: right;\n",
       "    }\n",
       "</style>\n",
       "<table border=\"1\" class=\"dataframe\">\n",
       "  <thead>\n",
       "    <tr style=\"text-align: right;\">\n",
       "      <th></th>\n",
       "      <th>Channel</th>\n",
       "      <th>Region</th>\n",
       "      <th>Fresh</th>\n",
       "      <th>Milk</th>\n",
       "      <th>Grocery</th>\n",
       "      <th>Frozen</th>\n",
       "      <th>Detergents_Paper</th>\n",
       "      <th>Delicassen</th>\n",
       "    </tr>\n",
       "  </thead>\n",
       "  <tbody>\n",
       "    <tr>\n",
       "      <th>54</th>\n",
       "      <td>1.0</td>\n",
       "      <td>3.0</td>\n",
       "      <td>1121510.0</td>\n",
       "      <td>1449.0</td>\n",
       "      <td>1947.0</td>\n",
       "      <td>2436.0</td>\n",
       "      <td>204.0</td>\n",
       "      <td>1333.0</td>\n",
       "    </tr>\n",
       "    <tr>\n",
       "      <th>154</th>\n",
       "      <td>1.0</td>\n",
       "      <td>3.0</td>\n",
       "      <td>1121510.0</td>\n",
       "      <td>55.0</td>\n",
       "      <td>137.0</td>\n",
       "      <td>75.0</td>\n",
       "      <td>7.0</td>\n",
       "      <td>8.0</td>\n",
       "    </tr>\n",
       "    <tr>\n",
       "      <th>230</th>\n",
       "      <td>2.0</td>\n",
       "      <td>1.0</td>\n",
       "      <td>1121510.0</td>\n",
       "      <td>5989.0</td>\n",
       "      <td>5615.0</td>\n",
       "      <td>8321.0</td>\n",
       "      <td>955.0</td>\n",
       "      <td>2137.0</td>\n",
       "    </tr>\n",
       "    <tr>\n",
       "      <th>307</th>\n",
       "      <td>1.0</td>\n",
       "      <td>2.0</td>\n",
       "      <td>1121510.0</td>\n",
       "      <td>2374.0</td>\n",
       "      <td>2842.0</td>\n",
       "      <td>1149.0</td>\n",
       "      <td>351.0</td>\n",
       "      <td>925.0</td>\n",
       "    </tr>\n",
       "  </tbody>\n",
       "</table>\n",
       "</div>"
      ],
      "text/plain": [
       "     Channel  Region      Fresh    Milk  Grocery  Frozen  Detergents_Paper  \\\n",
       "54       1.0     3.0  1121510.0  1449.0   1947.0  2436.0             204.0   \n",
       "154      1.0     3.0  1121510.0    55.0    137.0    75.0               7.0   \n",
       "230      2.0     1.0  1121510.0  5989.0   5615.0  8321.0             955.0   \n",
       "307      1.0     2.0  1121510.0  2374.0   2842.0  1149.0             351.0   \n",
       "\n",
       "     Delicassen  \n",
       "54       1333.0  \n",
       "154         8.0  \n",
       "230      2137.0  \n",
       "307       925.0  "
      ]
     },
     "execution_count": 471,
     "metadata": {},
     "output_type": "execute_result"
    }
   ],
   "source": [
    "df[df['Fresh']>200000] #Se muestran los outliers"
   ]
  },
  {
   "cell_type": "code",
   "execution_count": 472,
   "metadata": {},
   "outputs": [],
   "source": [
    "\n",
    "df = df.drop(df[df['Fresh']>200000].index) #Eliminación de outliers"
   ]
  },
  {
   "cell_type": "markdown",
   "metadata": {},
   "source": [
    "### Análisis y pretratamiento columna: Milk \n"
   ]
  },
  {
   "cell_type": "code",
   "execution_count": 473,
   "id": "afc7e9d6",
   "metadata": {},
   "outputs": [
    {
     "data": {
      "image/png": "[encoded data removed]",
      "text/plain": [
       "<Figure size 800x600 with 1 Axes>"
      ]
     },
     "metadata": {},
     "output_type": "display_data"
    },
    {
     "name": "stdout",
     "output_type": "stream",
     "text": [
      "Media: 13783.943946188341\n",
      "Desviación estándar: 77160.52242101115\n",
      "Valor mínimo: 112.0\n",
      "Valor máximo: 734980.0\n"
     ]
    }
   ],
   "source": [
    "plot_column(df,'Milk') "
   ]
  },
  {
   "cell_type": "code",
   "execution_count": 474,
   "id": "346c767d-9070-4d93-b4af-5d51e6db85e8",
   "metadata": {},
   "outputs": [
    {
     "data": {
      "text/html": [
       "<div>\n",
       "<style scoped>\n",
       "    .dataframe tbody tr th:only-of-type {\n",
       "        vertical-align: middle;\n",
       "    }\n",
       "\n",
       "    .dataframe tbody tr th {\n",
       "        vertical-align: top;\n",
       "    }\n",
       "\n",
       "    .dataframe thead th {\n",
       "        text-align: right;\n",
       "    }\n",
       "</style>\n",
       "<table border=\"1\" class=\"dataframe\">\n",
       "  <thead>\n",
       "    <tr style=\"text-align: right;\">\n",
       "      <th></th>\n",
       "      <th>Channel</th>\n",
       "      <th>Region</th>\n",
       "      <th>Fresh</th>\n",
       "      <th>Milk</th>\n",
       "      <th>Grocery</th>\n",
       "      <th>Frozen</th>\n",
       "      <th>Detergents_Paper</th>\n",
       "      <th>Delicassen</th>\n",
       "    </tr>\n",
       "  </thead>\n",
       "  <tbody>\n",
       "    <tr>\n",
       "      <th>86</th>\n",
       "      <td>2.0</td>\n",
       "      <td>3.0</td>\n",
       "      <td>22925.0</td>\n",
       "      <td>734980.0</td>\n",
       "      <td>32114.0</td>\n",
       "      <td>987.0</td>\n",
       "      <td>20070.0</td>\n",
       "      <td>903.0</td>\n",
       "    </tr>\n",
       "    <tr>\n",
       "      <th>209</th>\n",
       "      <td>2.0</td>\n",
       "      <td>3.0</td>\n",
       "      <td>5550.0</td>\n",
       "      <td>734980.0</td>\n",
       "      <td>16767.0</td>\n",
       "      <td>864.0</td>\n",
       "      <td>12420.0</td>\n",
       "      <td>797.0</td>\n",
       "    </tr>\n",
       "    <tr>\n",
       "      <th>266</th>\n",
       "      <td>2.0</td>\n",
       "      <td>1.0</td>\n",
       "      <td>572.0</td>\n",
       "      <td>734980.0</td>\n",
       "      <td>22182.0</td>\n",
       "      <td>2221.0</td>\n",
       "      <td>4882.0</td>\n",
       "      <td>2563.0</td>\n",
       "    </tr>\n",
       "    <tr>\n",
       "      <th>296</th>\n",
       "      <td>1.0</td>\n",
       "      <td>2.0</td>\n",
       "      <td>19087.0</td>\n",
       "      <td>734980.0</td>\n",
       "      <td>927800.0</td>\n",
       "      <td>3045.0</td>\n",
       "      <td>710.0</td>\n",
       "      <td>898.0</td>\n",
       "    </tr>\n",
       "    <tr>\n",
       "      <th>440</th>\n",
       "      <td>2.0</td>\n",
       "      <td>3.0</td>\n",
       "      <td>22925.0</td>\n",
       "      <td>734980.0</td>\n",
       "      <td>32114.0</td>\n",
       "      <td>987.0</td>\n",
       "      <td>20070.0</td>\n",
       "      <td>903.0</td>\n",
       "    </tr>\n",
       "  </tbody>\n",
       "</table>\n",
       "</div>"
      ],
      "text/plain": [
       "     Channel  Region    Fresh      Milk   Grocery  Frozen  Detergents_Paper  \\\n",
       "86       2.0     3.0  22925.0  734980.0   32114.0   987.0           20070.0   \n",
       "209      2.0     3.0   5550.0  734980.0   16767.0   864.0           12420.0   \n",
       "266      2.0     1.0    572.0  734980.0   22182.0  2221.0            4882.0   \n",
       "296      1.0     2.0  19087.0  734980.0  927800.0  3045.0             710.0   \n",
       "440      2.0     3.0  22925.0  734980.0   32114.0   987.0           20070.0   \n",
       "\n",
       "     Delicassen  \n",
       "86        903.0  \n",
       "209       797.0  \n",
       "266      2563.0  \n",
       "296       898.0  \n",
       "440       903.0  "
      ]
     },
     "execution_count": 474,
     "metadata": {},
     "output_type": "execute_result"
    }
   ],
   "source": [
    "df[df['Milk']>=100000] #Estos tienen pinta de outliers porque los 5 tienen 734980"
   ]
  },
  {
   "cell_type": "code",
   "execution_count": 475,
   "metadata": {},
   "outputs": [],
   "source": [
    "df = df.drop(df[df['Milk']>100000].index) #Eliminación de outliers"
   ]
  },
  {
   "cell_type": "markdown",
   "metadata": {},
   "source": [
    "### Análisis y pretratamiento columna: Grocery \n"
   ]
  },
  {
   "cell_type": "code",
   "execution_count": 476,
   "id": "af7f23b2",
   "metadata": {},
   "outputs": [
    {
     "data": {
      "image/png": "[encoded data removed]",
      "text/plain": [
       "<Figure size 800x600 with 1 Axes>"
      ]
     },
     "metadata": {},
     "output_type": "display_data"
    },
    {
     "name": "stdout",
     "output_type": "stream",
     "text": [
      "Media: 13975.63492063492\n",
      "Desviación estándar: 76284.14390178194\n",
      "Valor mínimo: 3.0\n",
      "Valor máximo: 927800.0\n"
     ]
    }
   ],
   "source": [
    "plot_column(df,'Grocery') "
   ]
  },
  {
   "cell_type": "code",
   "execution_count": 477,
   "id": "e9756c4b-4c3e-47e4-a826-28bd28eca9c9",
   "metadata": {},
   "outputs": [
    {
     "data": {
      "text/html": [
       "<div>\n",
       "<style scoped>\n",
       "    .dataframe tbody tr th:only-of-type {\n",
       "        vertical-align: middle;\n",
       "    }\n",
       "\n",
       "    .dataframe tbody tr th {\n",
       "        vertical-align: top;\n",
       "    }\n",
       "\n",
       "    .dataframe thead th {\n",
       "        text-align: right;\n",
       "    }\n",
       "</style>\n",
       "<table border=\"1\" class=\"dataframe\">\n",
       "  <thead>\n",
       "    <tr style=\"text-align: right;\">\n",
       "      <th></th>\n",
       "      <th>Channel</th>\n",
       "      <th>Region</th>\n",
       "      <th>Fresh</th>\n",
       "      <th>Milk</th>\n",
       "      <th>Grocery</th>\n",
       "      <th>Frozen</th>\n",
       "      <th>Detergents_Paper</th>\n",
       "      <th>Delicassen</th>\n",
       "    </tr>\n",
       "  </thead>\n",
       "  <tbody>\n",
       "    <tr>\n",
       "      <th>6</th>\n",
       "      <td>2.0</td>\n",
       "      <td>3.0</td>\n",
       "      <td>12126.0</td>\n",
       "      <td>3199.0</td>\n",
       "      <td>927800.0</td>\n",
       "      <td>480.0</td>\n",
       "      <td>3140.0</td>\n",
       "      <td>545.0</td>\n",
       "    </tr>\n",
       "    <tr>\n",
       "      <th>197</th>\n",
       "      <td>2.0</td>\n",
       "      <td>1.0</td>\n",
       "      <td>2427.0</td>\n",
       "      <td>7097.0</td>\n",
       "      <td>927800.0</td>\n",
       "      <td>1127.0</td>\n",
       "      <td>4314.0</td>\n",
       "      <td>1468.0</td>\n",
       "    </tr>\n",
       "    <tr>\n",
       "      <th>430</th>\n",
       "      <td>1.0</td>\n",
       "      <td>3.0</td>\n",
       "      <td>3097.0</td>\n",
       "      <td>4230.0</td>\n",
       "      <td>927800.0</td>\n",
       "      <td>1504.0</td>\n",
       "      <td>241.0</td>\n",
       "      <td>2080.0</td>\n",
       "    </tr>\n",
       "  </tbody>\n",
       "</table>\n",
       "</div>"
      ],
      "text/plain": [
       "     Channel  Region    Fresh    Milk   Grocery  Frozen  Detergents_Paper  \\\n",
       "6        2.0     3.0  12126.0  3199.0  927800.0   480.0            3140.0   \n",
       "197      2.0     1.0   2427.0  7097.0  927800.0  1127.0            4314.0   \n",
       "430      1.0     3.0   3097.0  4230.0  927800.0  1504.0             241.0   \n",
       "\n",
       "     Delicassen  \n",
       "6         545.0  \n",
       "197      1468.0  \n",
       "430      2080.0  "
      ]
     },
     "execution_count": 477,
     "metadata": {},
     "output_type": "execute_result"
    }
   ],
   "source": [
    "df[df['Grocery']>=200000] #Estos tienen pinta de outliers porque los 5 tienen 927800"
   ]
  },
  {
   "cell_type": "code",
   "execution_count": 478,
   "metadata": {},
   "outputs": [],
   "source": [
    "df = df.drop(df[df['Grocery']>200000].index) #Eliminación de outliers"
   ]
  },
  {
   "cell_type": "markdown",
   "metadata": {},
   "source": [
    "### Análisis y pretratamiento columna: Frozen \n"
   ]
  },
  {
   "cell_type": "code",
   "execution_count": 479,
   "metadata": {},
   "outputs": [
    {
     "data": {
      "image/png": "[encoded data removed]",
      "text/plain": [
       "<Figure size 800x600 with 1 Axes>"
      ]
     },
     "metadata": {},
     "output_type": "display_data"
    },
    {
     "name": "stdout",
     "output_type": "stream",
     "text": [
      "Media: 2943.1575342465753\n",
      "Desviación estándar: 4563.381788305199\n",
      "Valor mínimo: 25.0\n",
      "Valor máximo: 60869.0\n"
     ]
    }
   ],
   "source": [
    "plot_column(df,'Frozen') "
   ]
  },
  {
   "cell_type": "code",
   "execution_count": 480,
   "metadata": {},
   "outputs": [
    {
     "data": {
      "text/html": [
       "<div>\n",
       "<style scoped>\n",
       "    .dataframe tbody tr th:only-of-type {\n",
       "        vertical-align: middle;\n",
       "    }\n",
       "\n",
       "    .dataframe tbody tr th {\n",
       "        vertical-align: top;\n",
       "    }\n",
       "\n",
       "    .dataframe thead th {\n",
       "        text-align: right;\n",
       "    }\n",
       "</style>\n",
       "<table border=\"1\" class=\"dataframe\">\n",
       "  <thead>\n",
       "    <tr style=\"text-align: right;\">\n",
       "      <th></th>\n",
       "      <th>Channel</th>\n",
       "      <th>Region</th>\n",
       "      <th>Fresh</th>\n",
       "      <th>Milk</th>\n",
       "      <th>Grocery</th>\n",
       "      <th>Frozen</th>\n",
       "      <th>Detergents_Paper</th>\n",
       "      <th>Delicassen</th>\n",
       "    </tr>\n",
       "  </thead>\n",
       "  <tbody>\n",
       "    <tr>\n",
       "      <th>93</th>\n",
       "      <td>1.0</td>\n",
       "      <td>3.0</td>\n",
       "      <td>11314.0</td>\n",
       "      <td>3090.0</td>\n",
       "      <td>2062.0</td>\n",
       "      <td>35009.0</td>\n",
       "      <td>71.0</td>\n",
       "      <td>2698.0</td>\n",
       "    </tr>\n",
       "    <tr>\n",
       "      <th>325</th>\n",
       "      <td>1.0</td>\n",
       "      <td>2.0</td>\n",
       "      <td>32717.0</td>\n",
       "      <td>16784.0</td>\n",
       "      <td>13626.0</td>\n",
       "      <td>60869.0</td>\n",
       "      <td>1272.0</td>\n",
       "      <td>5609.0</td>\n",
       "    </tr>\n",
       "  </tbody>\n",
       "</table>\n",
       "</div>"
      ],
      "text/plain": [
       "     Channel  Region    Fresh     Milk  Grocery   Frozen  Detergents_Paper  \\\n",
       "93       1.0     3.0  11314.0   3090.0   2062.0  35009.0              71.0   \n",
       "325      1.0     2.0  32717.0  16784.0  13626.0  60869.0            1272.0   \n",
       "\n",
       "     Delicassen  \n",
       "93       2698.0  \n",
       "325      5609.0  "
      ]
     },
     "execution_count": 480,
     "metadata": {},
     "output_type": "execute_result"
    }
   ],
   "source": [
    "df[df['Frozen']>=20000] #Estos tienen pinta de outliers porque los 5 tienen 927800\n",
    "\n",
    "#TODO: Los dejamos y los justificamos por el lugar donde los compran."
   ]
  },
  {
   "cell_type": "markdown",
   "metadata": {},
   "source": [
    "### Análisis y pretratamiento columna: Detergents_Paper \n"
   ]
  },
  {
   "cell_type": "code",
   "execution_count": 481,
   "metadata": {},
   "outputs": [
    {
     "data": {
      "image/png": "[encoded data removed]",
      "text/plain": [
       "<Figure size 800x600 with 1 Axes>"
      ]
     },
     "metadata": {},
     "output_type": "display_data"
    },
    {
     "name": "stdout",
     "output_type": "stream",
     "text": [
      "Media: 2691.785388127854\n",
      "Desviación estándar: 4663.432771788852\n",
      "Valor mínimo: 3.0\n",
      "Valor máximo: 40827.0\n"
     ]
    }
   ],
   "source": [
    "plot_column(df,'Detergents_Paper') "
   ]
  },
  {
   "cell_type": "code",
   "execution_count": 482,
   "id": "763c9ca7-6da4-4386-b3ad-79416ff0a31f",
   "metadata": {},
   "outputs": [
    {
     "data": {
      "text/html": [
       "<div>\n",
       "<style scoped>\n",
       "    .dataframe tbody tr th:only-of-type {\n",
       "        vertical-align: middle;\n",
       "    }\n",
       "\n",
       "    .dataframe tbody tr th {\n",
       "        vertical-align: top;\n",
       "    }\n",
       "\n",
       "    .dataframe thead th {\n",
       "        text-align: right;\n",
       "    }\n",
       "</style>\n",
       "<table border=\"1\" class=\"dataframe\">\n",
       "  <thead>\n",
       "    <tr style=\"text-align: right;\">\n",
       "      <th></th>\n",
       "      <th>Channel</th>\n",
       "      <th>Region</th>\n",
       "      <th>Fresh</th>\n",
       "      <th>Milk</th>\n",
       "      <th>Grocery</th>\n",
       "      <th>Frozen</th>\n",
       "      <th>Detergents_Paper</th>\n",
       "      <th>Delicassen</th>\n",
       "    </tr>\n",
       "  </thead>\n",
       "  <tbody>\n",
       "    <tr>\n",
       "      <th>85</th>\n",
       "      <td>2.0</td>\n",
       "      <td>3.0</td>\n",
       "      <td>16117.0</td>\n",
       "      <td>46197.0</td>\n",
       "      <td>92780.0</td>\n",
       "      <td>1026.0</td>\n",
       "      <td>40827.0</td>\n",
       "      <td>2944.0</td>\n",
       "    </tr>\n",
       "    <tr>\n",
       "      <th>333</th>\n",
       "      <td>2.0</td>\n",
       "      <td>2.0</td>\n",
       "      <td>8565.0</td>\n",
       "      <td>4980.0</td>\n",
       "      <td>67298.0</td>\n",
       "      <td>131.0</td>\n",
       "      <td>38102.0</td>\n",
       "      <td>1215.0</td>\n",
       "    </tr>\n",
       "  </tbody>\n",
       "</table>\n",
       "</div>"
      ],
      "text/plain": [
       "     Channel  Region    Fresh     Milk  Grocery  Frozen  Detergents_Paper  \\\n",
       "85       2.0     3.0  16117.0  46197.0  92780.0  1026.0           40827.0   \n",
       "333      2.0     2.0   8565.0   4980.0  67298.0   131.0           38102.0   \n",
       "\n",
       "     Delicassen  \n",
       "85       2944.0  \n",
       "333      1215.0  "
      ]
     },
     "execution_count": 482,
     "metadata": {},
     "output_type": "execute_result"
    }
   ],
   "source": [
    "df[df['Detergents_Paper']>30000]\n",
    "\n",
    "\n",
    "#TODO: Checkear el 92780 de Grocery\n"
   ]
  },
  {
   "cell_type": "code",
   "execution_count": 483,
   "metadata": {},
   "outputs": [],
   "source": [
    "df = df.drop(df[df['Detergents_Paper']>200000].index) #Eliminación de outliers"
   ]
  },
  {
   "cell_type": "markdown",
   "metadata": {},
   "source": [
    "### Análisis y pretratamiento columna: Delicassen \n"
   ]
  },
  {
   "cell_type": "code",
   "execution_count": 484,
   "metadata": {},
   "outputs": [
    {
     "data": {
      "image/png": "[encoded data removed]",
      "text/plain": [
       "<Figure size 800x600 with 1 Axes>"
      ]
     },
     "metadata": {},
     "output_type": "display_data"
    },
    {
     "name": "stdout",
     "output_type": "stream",
     "text": [
      "Media: 1512.3698630136987\n",
      "Desviación estándar: 2822.9860118447928\n",
      "Valor mínimo: 3.0\n",
      "Valor máximo: 47943.0\n"
     ]
    }
   ],
   "source": [
    "plot_column(df,'Delicassen') "
   ]
  },
  {
   "cell_type": "code",
   "execution_count": 485,
   "id": "b3e67227-630a-405c-a7d9-286364d0a3c8",
   "metadata": {},
   "outputs": [
    {
     "data": {
      "text/html": [
       "<div>\n",
       "<style scoped>\n",
       "    .dataframe tbody tr th:only-of-type {\n",
       "        vertical-align: middle;\n",
       "    }\n",
       "\n",
       "    .dataframe tbody tr th {\n",
       "        vertical-align: top;\n",
       "    }\n",
       "\n",
       "    .dataframe thead th {\n",
       "        text-align: right;\n",
       "    }\n",
       "</style>\n",
       "<table border=\"1\" class=\"dataframe\">\n",
       "  <thead>\n",
       "    <tr style=\"text-align: right;\">\n",
       "      <th></th>\n",
       "      <th>Channel</th>\n",
       "      <th>Region</th>\n",
       "      <th>Fresh</th>\n",
       "      <th>Milk</th>\n",
       "      <th>Grocery</th>\n",
       "      <th>Frozen</th>\n",
       "      <th>Detergents_Paper</th>\n",
       "      <th>Delicassen</th>\n",
       "    </tr>\n",
       "  </thead>\n",
       "  <tbody>\n",
       "    <tr>\n",
       "      <th>183</th>\n",
       "      <td>1.0</td>\n",
       "      <td>3.0</td>\n",
       "      <td>36847.0</td>\n",
       "      <td>43950.0</td>\n",
       "      <td>20170.0</td>\n",
       "      <td>1504.0</td>\n",
       "      <td>239.0</td>\n",
       "      <td>47943.0</td>\n",
       "    </tr>\n",
       "  </tbody>\n",
       "</table>\n",
       "</div>"
      ],
      "text/plain": [
       "     Channel  Region    Fresh     Milk  Grocery  Frozen  Detergents_Paper  \\\n",
       "183      1.0     3.0  36847.0  43950.0  20170.0  1504.0             239.0   \n",
       "\n",
       "     Delicassen  \n",
       "183     47943.0  "
      ]
     },
     "execution_count": 485,
     "metadata": {},
     "output_type": "execute_result"
    }
   ],
   "source": [
    "df[df['Delicassen']>20000]"
   ]
  },
  {
   "cell_type": "code",
   "execution_count": 489,
   "metadata": {},
   "outputs": [],
   "source": [
    "df = df.drop(df[df['Delicassen']>20000].index) #Eliminación de outliers"
   ]
  },
  {
   "cell_type": "code",
   "execution_count": 486,
   "id": "90998ec0-3d0f-4753-b798-f4aea7529712",
   "metadata": {},
   "outputs": [
    {
     "data": {
      "text/html": [
       "<div>\n",
       "<style scoped>\n",
       "    .dataframe tbody tr th:only-of-type {\n",
       "        vertical-align: middle;\n",
       "    }\n",
       "\n",
       "    .dataframe tbody tr th {\n",
       "        vertical-align: top;\n",
       "    }\n",
       "\n",
       "    .dataframe thead th {\n",
       "        text-align: right;\n",
       "    }\n",
       "</style>\n",
       "<table border=\"1\" class=\"dataframe\">\n",
       "  <thead>\n",
       "    <tr style=\"text-align: right;\">\n",
       "      <th></th>\n",
       "      <th>Channel</th>\n",
       "      <th>Region</th>\n",
       "      <th>Fresh</th>\n",
       "      <th>Milk</th>\n",
       "      <th>Grocery</th>\n",
       "      <th>Frozen</th>\n",
       "      <th>Detergents_Paper</th>\n",
       "      <th>Delicassen</th>\n",
       "    </tr>\n",
       "  </thead>\n",
       "  <tbody>\n",
       "    <tr>\n",
       "      <th>0</th>\n",
       "      <td>2.0</td>\n",
       "      <td>3.0</td>\n",
       "      <td>0.072735</td>\n",
       "      <td>0.609114</td>\n",
       "      <td>-0.016681</td>\n",
       "      <td>-0.598740</td>\n",
       "      <td>-0.003818</td>\n",
       "      <td>-0.061839</td>\n",
       "    </tr>\n",
       "    <tr>\n",
       "      <th>1</th>\n",
       "      <td>2.0</td>\n",
       "      <td>3.0</td>\n",
       "      <td>-0.380204</td>\n",
       "      <td>0.632311</td>\n",
       "      <td>0.198523</td>\n",
       "      <td>-0.259130</td>\n",
       "      <td>0.129068</td>\n",
       "      <td>0.093494</td>\n",
       "    </tr>\n",
       "    <tr>\n",
       "      <th>2</th>\n",
       "      <td>2.0</td>\n",
       "      <td>3.0</td>\n",
       "      <td>-0.437023</td>\n",
       "      <td>0.481375</td>\n",
       "      <td>-0.003492</td>\n",
       "      <td>-0.118064</td>\n",
       "      <td>0.176942</td>\n",
       "      <td>2.245449</td>\n",
       "    </tr>\n",
       "    <tr>\n",
       "      <th>3</th>\n",
       "      <td>1.0</td>\n",
       "      <td>3.0</td>\n",
       "      <td>0.120837</td>\n",
       "      <td>-0.665258</td>\n",
       "      <td>-0.374817</td>\n",
       "      <td>0.759261</td>\n",
       "      <td>-0.469029</td>\n",
       "      <td>0.097749</td>\n",
       "    </tr>\n",
       "    <tr>\n",
       "      <th>4</th>\n",
       "      <td>2.0</td>\n",
       "      <td>3.0</td>\n",
       "      <td>0.875466</td>\n",
       "      <td>-0.030482</td>\n",
       "      <td>-0.055604</td>\n",
       "      <td>0.213209</td>\n",
       "      <td>-0.196386</td>\n",
       "      <td>1.302461</td>\n",
       "    </tr>\n",
       "  </tbody>\n",
       "</table>\n",
       "</div>"
      ],
      "text/plain": [
       "   Channel  Region     Fresh      Milk   Grocery    Frozen  Detergents_Paper  \\\n",
       "0      2.0     3.0  0.072735  0.609114 -0.016681 -0.598740         -0.003818   \n",
       "1      2.0     3.0 -0.380204  0.632311  0.198523 -0.259130          0.129068   \n",
       "2      2.0     3.0 -0.437023  0.481375 -0.003492 -0.118064          0.176942   \n",
       "3      1.0     3.0  0.120837 -0.665258 -0.374817  0.759261         -0.469029   \n",
       "4      2.0     3.0  0.875466 -0.030482 -0.055604  0.213209         -0.196386   \n",
       "\n",
       "   Delicassen  \n",
       "0   -0.061839  \n",
       "1    0.093494  \n",
       "2    2.245449  \n",
       "3    0.097749  \n",
       "4    1.302461  "
      ]
     },
     "execution_count": 486,
     "metadata": {},
     "output_type": "execute_result"
    }
   ],
   "source": [
    "#Normalizar las variables\n",
    "from sklearn.preprocessing import StandardScaler\n",
    "# Se inicializa el escalador MinMax\n",
    "scaler = StandardScaler()\n",
    "\n",
    "for column in [\"Fresh\" ,\"Milk\",\"Grocery\",\"Frozen\" ,\"Detergents_Paper\",\"Delicassen\"]:\n",
    "    # Se normalizan los datos de la columna\n",
    "    normalized_column = scaler.fit_transform(df[[column]])\n",
    "    # Se agregan los datos normalizados al dataframe original\n",
    "    df[column] = normalized_column\n",
    "\n",
    "df.head()"
   ]
  },
  {
   "cell_type": "markdown",
   "id": "71cf7d13",
   "metadata": {},
   "source": [
    "\n",
    "##### ¿Cómo varía el gasto anual promedio entre las diferentes regiones (Lisbon, Oporto y otras)? Utilizar un gráfico de barras para mostrar el gasto promedio en cada categoría por región, facilitando la comparación de patrones de consumo."
   ]
  },
  {
   "cell_type": "markdown",
   "id": "9721ddfe",
   "metadata": {},
   "source": [
    "##### ¿Existen diferencias significativas en el gasto anual entre los canales (Horeca y Retail)? Comparar el gasto en cada categoría según el canal usando un gráfico de barras o boxplot para resaltar diferencias en patrones de consumo entre Horeca y Retail.\n"
   ]
  },
  {
   "cell_type": "markdown",
   "id": "678559a7",
   "metadata": {},
   "source": [
    "##### ¿Cómo se distribuye el gasto en productos frescos en relación con otros productos? Crear un gráfico de dispersión (scatter plot) comparando FRESH con cada una de las otras categorías, para analizar si existe correlación entre el gasto en productos frescos y otras categorías."
   ]
  },
  {
   "cell_type": "markdown",
   "id": "3eebfc5f",
   "metadata": {},
   "source": [
    "##### ¿Cuál es la proporción de gasto en cada categoría de productos en cada región? Usar un gráfico de pastel o un gráfico de áreas apiladas para representar la proporción de cada categoría en el gasto total por región."
   ]
  },
  {
   "cell_type": "markdown",
   "id": "9fbb4993",
   "metadata": {},
   "source": [
    "##### ¿Cuál es la distribución del gasto anual en cada categoría de productos? Crear un histograma o boxplot para cada categoría (FRESH, MILK, GROCERY, FROZEN, DETERGENTS_PAPER, DELICATESSEN) para visualizar la dispersión del gasto y detectar posibles outliers."
   ]
  },
  {
   "cell_type": "markdown",
   "id": "71b934c8",
   "metadata": {},
   "source": [
    "##### ¿Qué región tiene una mayor proporción de clientes en Horeca vs. Retail? Visualizar la frecuencia de clientes por canal y región con un gráfico de barras apiladas o un mosaico para analizar el predominio de Horeca o Retail en cada región."
   ]
  },
  {
   "cell_type": "markdown",
   "id": "f53faf4f",
   "metadata": {},
   "source": [
    "##### ¿Existen correlaciones entre las categorías de gasto? Crear una matriz de correlación con un heatmap para observar las relaciones entre las distintas categorías de productos y detectar patrones de consumo."
   ]
  },
  {
   "cell_type": "markdown",
   "id": "919d0e4d",
   "metadata": {},
   "source": [
    "##### ¿Cómo varía el gasto en Delicatessen entre regiones y canales? Comparar el gasto promedio en Delicatessen para cada combinación de región y canal usando un gráfico de barras o un boxplot, para explorar diferencias en este tipo de productos."
   ]
  },
  {
   "cell_type": "markdown",
   "id": "db36e2c2",
   "metadata": {},
   "source": [
    "##### ¿Cuál es la variación del gasto promedio en productos de cada tipo en función de la desviación estándar? Representar la media y la desviación estándar de cada categoría en un gráfico de barras para visualizar el nivel de variabilidad de cada tipo de producto."
   ]
  },
  {
   "cell_type": "code",
   "execution_count": 488,
   "id": "03a1311d",
   "metadata": {},
   "outputs": [],
   "source": [
    "# Gasto promedio anual por región\n",
    "\n"
   ]
  }
 ],
 "metadata": {
  "kernelspec": {
   "display_name": "Python 3",
   "language": "python",
   "name": "python3"
  },
  "language_info": {
   "codemirror_mode": {
    "name": "ipython",
    "version": 3
   },
   "file_extension": ".py",
   "mimetype": "text/x-python",
   "name": "python",
   "nbconvert_exporter": "python",
   "pygments_lexer": "ipython3",
   "version": "3.11.3"
  }
 },
 "nbformat": 4,
 "nbformat_minor": 5
}
